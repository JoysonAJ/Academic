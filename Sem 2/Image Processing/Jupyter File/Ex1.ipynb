{
 "cells": [
  {
   "cell_type": "code",
   "execution_count": 2,
   "id": "4438fb51",
   "metadata": {},
   "outputs": [],
   "source": [
    "import cv2\n",
    "import numpy as np"
   ]
  },
  {
   "cell_type": "markdown",
   "id": "ad02858e",
   "metadata": {},
   "source": [
    "### Read a grayScale Image and display "
   ]
  },
  {
   "cell_type": "code",
   "execution_count": 29,
   "id": "add7ff67",
   "metadata": {},
   "outputs": [],
   "source": [
    "dirName = r'E:\\Submission\\WorkBranch\\Academic\\Sem2\\Image Processing\\Jupyter File\\Images'\n",
    "image1 =dirName+'\\Image3.jpg'\n",
    "img = cv2.imread(image1,cv2.IMREAD_GRAYSCALE)\n"
   ]
  },
  {
   "cell_type": "code",
   "execution_count": 5,
   "id": "329f4666",
   "metadata": {},
   "outputs": [],
   "source": [
    "cv2.imshow('image',img)\n",
    "cv2.waitKey(0)\n",
    "cv2.destroyAllWindows()"
   ]
  },
  {
   "cell_type": "markdown",
   "id": "edcecb9f",
   "metadata": {},
   "source": [
    "### Brightness"
   ]
  },
  {
   "cell_type": "code",
   "execution_count": 4,
   "id": "f4df2667",
   "metadata": {},
   "outputs": [],
   "source": [
    "import numpy as np\n",
    "\n",
    "image1 =dirName+'\\Image3.jpg'\n",
    "image = cv2.imread(image1)"
   ]
  },
  {
   "cell_type": "code",
   "execution_count": 5,
   "id": "6cf3c182",
   "metadata": {},
   "outputs": [
    {
     "data": {
      "text/plain": [
       "-1"
      ]
     },
     "execution_count": 5,
     "metadata": {},
     "output_type": "execute_result"
    }
   ],
   "source": [
    "Intensity_Matrix=np.ones(image.shape,dtype=\"uint8\")*60\n",
    "\n",
    "brt_image=cv2.add(image,Intensity_Matrix)\n",
    "cv2.imshow(\"Bright\",brt_image)\n",
    "cv2.waitKey(0)\n",
    "\n",
    "\n",
    "# print(Intensity_Matrix)"
   ]
  },
  {
   "cell_type": "code",
   "execution_count": 3,
   "id": "abcbae5f",
   "metadata": {},
   "outputs": [
    {
     "name": "stdout",
     "output_type": "stream",
     "text": [
      " Current working directory is: E:\\Submission\\WorkBranch\\Academic\\Sem2\\Image Processing\\Jupyter File\n",
      "\n",
      " Current working directory is: E:\\Submission\\WorkBranch\\Academic\\Sem2\\Image Processing\\New Dirtory\n",
      "\n",
      " List of files in Folder ['Brightness Image.jpg', 'Dark Image.jpg', 'Original Image.jpg']\n"
     ]
    },
    {
     "ename": "error",
     "evalue": "OpenCV(4.6.0) D:\\a\\opencv-python\\opencv-python\\opencv\\modules\\imgcodecs\\src\\loadsave.cpp:730: error: (-2:Unspecified error) could not find a writer for the specified extension in function 'cv::imwrite_'\n",
     "output_type": "error",
     "traceback": [
      "\u001b[1;31m---------------------------------------------------------------------------\u001b[0m",
      "\u001b[1;31merror\u001b[0m                                     Traceback (most recent call last)",
      "Input \u001b[1;32mIn [3]\u001b[0m, in \u001b[0;36m<cell line: 23>\u001b[1;34m()\u001b[0m\n\u001b[0;32m     20\u001b[0m Dark_Image \u001b[38;5;241m=\u001b[39m cv2\u001b[38;5;241m.\u001b[39msubtract(img,Image_Matrix)\n\u001b[0;32m     22\u001b[0m cv2\u001b[38;5;241m.\u001b[39mimwrite(\u001b[38;5;124m\"\u001b[39m\u001b[38;5;124mOriginal Image.jpg\u001b[39m\u001b[38;5;124m\"\u001b[39m,img)\n\u001b[1;32m---> 23\u001b[0m \u001b[43mcv2\u001b[49m\u001b[38;5;241;43m.\u001b[39;49m\u001b[43mimwrite\u001b[49m\u001b[43m(\u001b[49m\u001b[38;5;124;43m\"\u001b[39;49m\u001b[38;5;124;43mBrightness Image\u001b[39;49m\u001b[38;5;124;43m\"\u001b[39;49m\u001b[43m,\u001b[49m\u001b[43mBright_Image\u001b[49m\u001b[43m)\u001b[49m\n\u001b[0;32m     24\u001b[0m cv2\u001b[38;5;241m.\u001b[39mimwrite(\u001b[38;5;124m\"\u001b[39m\u001b[38;5;124mDark Image\u001b[39m\u001b[38;5;124m\"\u001b[39m,Dark_Image)\n\u001b[0;32m     26\u001b[0m dir_list \u001b[38;5;241m=\u001b[39m os\u001b[38;5;241m.\u001b[39mlistdir(nwCwd)\n",
      "\u001b[1;31merror\u001b[0m: OpenCV(4.6.0) D:\\a\\opencv-python\\opencv-python\\opencv\\modules\\imgcodecs\\src\\loadsave.cpp:730: error: (-2:Unspecified error) could not find a writer for the specified extension in function 'cv::imwrite_'\n"
     ]
    }
   ],
   "source": [
    "import os\n",
    "dirName = r'E:\\Submission\\WorkBranch\\Academic\\Sem2\\Image Processing\\Jupyter File\\Images'\n",
    "image1 =dirName+'\\Image3.jpg'\n",
    "img = cv2.imread(image1,cv2.IMREAD_COLOR)\n",
    "\n",
    "os.chdir(r'E:\\Submission\\WorkBranch\\Academic\\Sem2\\Image Processing\\Jupyter File' )\n",
    "cwd = os.getcwd()\n",
    "print(\" Current working directory is:\", cwd)\n",
    "\n",
    "os.chdir(r'E:\\Submission\\WorkBranch\\Academic\\Sem2\\Image Processing\\New Dirtory')\n",
    "nwCwd = os.getcwd()\n",
    "print(\"\\n Current working directory is:\", nwCwd)\n",
    "\n",
    "dir_list = os.listdir(nwCwd)\n",
    "print(\"\\n List of files in Folder\",dir_list)\n",
    "\n",
    "Image_Matrix =np.ones(img.shape,dtype=\"uint8\")*60\n",
    "\n",
    "Bright_Image = cv2.add(img,Image_Matrix)\n",
    "Dark_Image = cv2.subtract(img,Image_Matrix)\n",
    "\n",
    "cv2.imwrite(\"Original Image.jpg\",img)\n",
    "cv2.imwrite(\"Brightness Image\",Bright_Image)\n",
    "cv2.imwrite(\"Dark Image\",Dark_Image)\n",
    "\n",
    "dir_list = os.listdir(nwCwd)\n",
    "print(\"\\n After using imWrite \\n List of files in Folder\",dir_list)\n",
    "\n",
    "cv2.imshow(\"Original Image\",img)\n",
    "cv2.imshow(\"Brightness Image\",Bright_Image)\n",
    "cv2.imshow(\"Dark Image\",Dark_Image)\n",
    "cv2.waitKey(0)"
   ]
  },
  {
   "cell_type": "code",
   "execution_count": 39,
   "id": "5a8dc6db",
   "metadata": {},
   "outputs": [
    {
     "name": "stdout",
     "output_type": "stream",
     "text": [
      " Current working directory is: E:\\Submission\\WorkBranch\\Academic\\Sem2\\Image Processing\\Jupyter File\n",
      "\n",
      " Current working directory is: E:\\Submission\\WorkBranch\\Academic\\Sem2\\Image Processing\\New Dirtory\n",
      "\n",
      " List of files in Folder []\n",
      "\n",
      " After using imWrite \n",
      " List of files in Folder ['Copy_Image.jpg']\n"
     ]
    },
    {
     "data": {
      "text/plain": [
       "-1"
      ]
     },
     "execution_count": 39,
     "metadata": {},
     "output_type": "execute_result"
    }
   ],
   "source": [
    "\n",
    "\n",
    "\n",
    "\n",
    "\n",
    "cv2.imwrite(\"Copy_Image.jpg\", img)\n",
    "\n",
    "dir_list = os.listdir(nwCwd)\n",
    "print(\"\\n After using imWrite \\n List of files in Folder\",dir_list)\n",
    "\n",
    "cv2.imshow(\"Copy_Image.jpg\",brt_image)\n",
    "cv2.waitKey(0)"
   ]
  },
  {
   "cell_type": "code",
   "execution_count": 4,
   "id": "844f5837",
   "metadata": {},
   "outputs": [
    {
     "ename": "NameError",
     "evalue": "name 'image' is not defined",
     "output_type": "error",
     "traceback": [
      "\u001b[1;31m---------------------------------------------------------------------------\u001b[0m",
      "\u001b[1;31mNameError\u001b[0m                                 Traceback (most recent call last)",
      "Input \u001b[1;32mIn [4]\u001b[0m, in \u001b[0;36m<cell line: 1>\u001b[1;34m()\u001b[0m\n\u001b[1;32m----> 1\u001b[0m dark_image\u001b[38;5;241m=\u001b[39mcv2\u001b[38;5;241m.\u001b[39msubtract(\u001b[43mimage\u001b[49m,Intensity_Matrix)\n\u001b[0;32m      2\u001b[0m cv2\u001b[38;5;241m.\u001b[39mimshow(\u001b[38;5;124m\"\u001b[39m\u001b[38;5;124mdark\u001b[39m\u001b[38;5;124m\"\u001b[39m,dark_image)\n\u001b[0;32m      3\u001b[0m cv2\u001b[38;5;241m.\u001b[39mwaitKey(\u001b[38;5;241m0\u001b[39m)\n",
      "\u001b[1;31mNameError\u001b[0m: name 'image' is not defined"
     ]
    }
   ],
   "source": [
    "dark_image=cv2.subtract(image,Intensity_Matrix)\n",
    "cv2.imshow(\"dark\",dark_image)\n",
    "cv2.waitKey(0)\n"
   ]
  },
  {
   "cell_type": "markdown",
   "id": "e4035e45",
   "metadata": {},
   "source": [
    "### Split the image in to R,G,B"
   ]
  },
  {
   "cell_type": "code",
   "execution_count": 12,
   "id": "f4d47a00",
   "metadata": {},
   "outputs": [
    {
     "data": {
      "text/plain": [
       "-1"
      ]
     },
     "execution_count": 12,
     "metadata": {},
     "output_type": "execute_result"
    }
   ],
   "source": [
    "RGBPath =dirName+'\\RGB.png'\n",
    "imageRGB = cv2.imread(RGBPath)"
   ]
  },
  {
   "cell_type": "code",
   "execution_count": 9,
   "id": "8418892c",
   "metadata": {},
   "outputs": [],
   "source": [
    "# cv2.imshow(\"Original_image\",imageRGB)\n",
    "cv2.waitKey(0)\n",
    "\n",
    "\n",
    "b,g,r=cv2.split(imageRGB)"
   ]
  },
  {
   "cell_type": "code",
   "execution_count": 11,
   "id": "fb4ae1e1",
   "metadata": {},
   "outputs": [
    {
     "data": {
      "text/plain": [
       "-1"
      ]
     },
     "execution_count": 11,
     "metadata": {},
     "output_type": "execute_result"
    }
   ],
   "source": [
    "\n",
    "cv2.imshow(\"Original_image\",imageRGB)\n",
    "cv2.imshow(\"Red\",r)\n",
    "cv2.imshow(\"Blue\",b)\n",
    "cv2.imshow(\"Green\",g)\n",
    "cv2.waitKey(0)"
   ]
  },
  {
   "cell_type": "code",
   "execution_count": null,
   "id": "46ad6433",
   "metadata": {},
   "outputs": [],
   "source": [
    "cv2.imshow(\"Blue\",b)\n",
    "cv2.waitKey(0)"
   ]
  },
  {
   "cell_type": "code",
   "execution_count": 20,
   "id": "9bd9dc39",
   "metadata": {},
   "outputs": [
    {
     "data": {
      "text/plain": [
       "-1"
      ]
     },
     "execution_count": 20,
     "metadata": {},
     "output_type": "execute_result"
    }
   ],
   "source": [
    "cv2.imshow(\"Green\",g)\n",
    "cv2.waitKey(0)"
   ]
  },
  {
   "cell_type": "markdown",
   "id": "ff605f9f",
   "metadata": {},
   "source": [
    "### Pending"
   ]
  },
  {
   "cell_type": "code",
   "execution_count": null,
   "id": "cf3b2f67",
   "metadata": {},
   "outputs": [],
   "source": []
  },
  {
   "cell_type": "code",
   "execution_count": null,
   "id": "bf45882e",
   "metadata": {},
   "outputs": [],
   "source": []
  },
  {
   "cell_type": "markdown",
   "id": "71ab3eae",
   "metadata": {},
   "source": [
    "### Rotate 60 degree\n"
   ]
  },
  {
   "cell_type": "code",
   "execution_count": 14,
   "id": "36f9eb85",
   "metadata": {},
   "outputs": [
    {
     "data": {
      "text/plain": [
       "-1"
      ]
     },
     "execution_count": 14,
     "metadata": {},
     "output_type": "execute_result"
    }
   ],
   "source": [
    "import imutils\n",
    "\n",
    "image1 =dirName+'\\Image3.jpg'\n",
    "img = cv2.imread(image1,cv2.IMREAD_COLOR)\n",
    "rotate_img = imutils.rotate(img,angle=60)\n",
    "cv2.imshow(\"Original\",img)\n",
    "cv2.imshow(\"Rotated\",rotate_img)\n",
    "cv2.waitKey(0)"
   ]
  },
  {
   "cell_type": "markdown",
   "id": "a9309a7a",
   "metadata": {},
   "source": [
    "### Transition"
   ]
  },
  {
   "cell_type": "code",
   "execution_count": 15,
   "id": "47fbe496",
   "metadata": {},
   "outputs": [],
   "source": [
    "image1 =dirName+'\\Image3.jpg'\n",
    "img = cv2.imread(image1,cv2.IMREAD_COLOR)\n",
    "height, width = img.shape[:2]\n",
    "quarter_height, quarter_width = height / 4, width / 4\n",
    "T = np.float32([[1, 0, quarter_width], [0, 1, quarter_height]])\n",
    "img_translation = cv2.warpAffine(img, T, (width, height))\n"
   ]
  },
  {
   "cell_type": "code",
   "execution_count": 15,
   "id": "09ce4302",
   "metadata": {},
   "outputs": [],
   "source": [
    "cv2.imshow(\"Originalimage\", img)\n",
    "cv2.waitKey()\n",
    "cv2.destroyAllWindows()"
   ]
  },
  {
   "cell_type": "code",
   "execution_count": 16,
   "id": "a326a64a",
   "metadata": {},
   "outputs": [],
   "source": [
    "cv2.imshow(\"Originalimage\", img)\n",
    "cv2.imshow('Translation', img_translation)\n",
    "cv2.waitKey()\n",
    "cv2.destroyAllWindows()"
   ]
  },
  {
   "cell_type": "markdown",
   "id": "ef351614",
   "metadata": {},
   "source": [
    "\n",
    "### Shrinking and resize"
   ]
  },
  {
   "cell_type": "code",
   "execution_count": 45,
   "id": "27619d68",
   "metadata": {},
   "outputs": [],
   "source": [
    "os.chdir(r'E:\\Submission\\WorkBranch\\Academic\\Sem2\\Image Processing\\Jupyter File' )"
   ]
  },
  {
   "cell_type": "code",
   "execution_count": 50,
   "id": "7d5cf404",
   "metadata": {},
   "outputs": [
    {
     "data": {
      "text/plain": [
       "-1"
      ]
     },
     "execution_count": 50,
     "metadata": {},
     "output_type": "execute_result"
    }
   ],
   "source": [
    "dirName = r'E:\\Submission\\WorkBranch\\Academic\\Sem2\\Image Processing\\Jupyter File\\Images'\n",
    "image1 =dirName+'\\Image22.jpg'\n",
    "image = cv2.imread(image1,cv2.IMREAD_COLOR)\n",
    "\n",
    "cv2.imshow(\"OriginalImage\", image)\n",
    "cv2.waitKey(0)"
   ]
  },
  {
   "cell_type": "code",
   "execution_count": 51,
   "id": "a4547c7e",
   "metadata": {},
   "outputs": [],
   "source": [
    "down_width = 100\n",
    "down_height = 100\n",
    "down_points = (down_width, down_height)\n",
    "resized_down = cv2.resize(image, down_points, interpolation= cv2.INTER_LINEAR)\n",
    "up_width = 200\n",
    "up_height = 100\n",
    "up_points = (up_width, up_height)\n",
    "resized_up = cv2.resize(image, up_points, interpolation= cv2.INTER_LINEAR)\n",
    "cv2.imshow('Resized Down by defining height and width', resized_down)\n",
    "\n",
    "# cv2.waitKey()\n",
    "cv2.imshow('Resized Up image by defining height and width', resized_up)\n",
    "cv2.waitKey()\n",
    "cv2.destroyAllWindows()"
   ]
  },
  {
   "cell_type": "code",
   "execution_count": 47,
   "id": "b99628e2",
   "metadata": {},
   "outputs": [
    {
     "ename": "error",
     "evalue": "OpenCV(4.6.0) D:\\a\\opencv-python\\opencv-python\\opencv\\modules\\highgui\\src\\window.cpp:967: error: (-215:Assertion failed) size.width>0 && size.height>0 in function 'cv::imshow'\n",
     "output_type": "error",
     "traceback": [
      "\u001b[1;31m---------------------------------------------------------------------------\u001b[0m",
      "\u001b[1;31merror\u001b[0m                                     Traceback (most recent call last)",
      "Input \u001b[1;32mIn [47]\u001b[0m, in \u001b[0;36m<cell line: 5>\u001b[1;34m()\u001b[0m\n\u001b[0;32m      2\u001b[0m image1 \u001b[38;5;241m=\u001b[39mdirName\u001b[38;5;241m+\u001b[39m\u001b[38;5;124m'\u001b[39m\u001b[38;5;124m\\\u001b[39m\u001b[38;5;124mImage4.jpg\u001b[39m\u001b[38;5;124m'\u001b[39m\n\u001b[0;32m      3\u001b[0m image \u001b[38;5;241m=\u001b[39m cv2\u001b[38;5;241m.\u001b[39mimread(image1,cv2\u001b[38;5;241m.\u001b[39mIMREAD_COLOR)\n\u001b[1;32m----> 5\u001b[0m \u001b[43mcv2\u001b[49m\u001b[38;5;241;43m.\u001b[39;49m\u001b[43mimshow\u001b[49m\u001b[43m(\u001b[49m\u001b[38;5;124;43m\"\u001b[39;49m\u001b[38;5;124;43mOriginalImage\u001b[39;49m\u001b[38;5;124;43m\"\u001b[39;49m\u001b[43m,\u001b[49m\u001b[43m \u001b[49m\u001b[43mimage\u001b[49m\u001b[43m)\u001b[49m\n\u001b[0;32m      6\u001b[0m cv2\u001b[38;5;241m.\u001b[39mwaitKey(\u001b[38;5;241m0\u001b[39m)\n",
      "\u001b[1;31merror\u001b[0m: OpenCV(4.6.0) D:\\a\\opencv-python\\opencv-python\\opencv\\modules\\highgui\\src\\window.cpp:967: error: (-215:Assertion failed) size.width>0 && size.height>0 in function 'cv::imshow'\n"
     ]
    }
   ],
   "source": [
    "dirName = r'E:\\Submission\\WorkBranch\\Academic\\Sem2\\Image Processing\\Jupyter File\\Images'\n",
    "image1 =dirName+'\\Image4.jpg'\n",
    "image = cv2.imread(image1,cv2.IMREAD_COLOR)\n",
    "\n",
    "cv2.imshow(\"OriginalImage\", image)\n",
    "cv2.waitKey(0)\n",
    "# down_width = 100\n",
    "# down_height = 100\n",
    "# down_points = (down_width, down_height)\n",
    "# resized_down = cv2.resize(image, down_points, interpolation= cv2.INTER_LINEAR)\n",
    "# up_width = 200\n",
    "# up_height = 100\n",
    "# up_points = (up_width, up_height)\n",
    "# resized_up = cv2.resize(image, up_points, interpolation= cv2.INTER_LINEAR)\n",
    "# cv2.imshow('Resized Down by defining height and width', resized_down)\n",
    "\n",
    "# # cv2.waitKey()\n",
    "# cv2.imshow('Resized Up image by defining height and width', resized_up)\n",
    "# cv2.waitKey()\n",
    "# cv2.destroyAllWindows()"
   ]
  },
  {
   "cell_type": "code",
   "execution_count": 52,
   "id": "a89d5450",
   "metadata": {},
   "outputs": [],
   "source": [
    "\n",
    "cv2.imshow('Original Image', image)\n",
    "down_width = 100\n",
    "down_height = 100\n",
    "down_points = (down_width, down_height)\n",
    "resized_down = cv2.resize(image, down_points, interpolation= cv2.INTER_LINEAR)\n",
    "up_width = 200\n",
    "up_height = 100\n",
    "up_points = (up_width, up_height)\n",
    "resized_up = cv2.resize(image, up_points, interpolation= cv2.INTER_LINEAR)\n",
    "cv2.imshow('Resized Down by defining height and width', resized_down)\n",
    "\n",
    "# cv2.waitKey()\n",
    "cv2.imshow('Resized Up image by defining height and width', resized_up)\n",
    "cv2.waitKey()\n",
    "cv2.destroyAllWindows()"
   ]
  },
  {
   "cell_type": "code",
   "execution_count": null,
   "id": "84d3bea8",
   "metadata": {},
   "outputs": [],
   "source": []
  }
 ],
 "metadata": {
  "kernelspec": {
   "display_name": "Python 3 (ipykernel)",
   "language": "python",
   "name": "python3"
  },
  "language_info": {
   "codemirror_mode": {
    "name": "ipython",
    "version": 3
   },
   "file_extension": ".py",
   "mimetype": "text/x-python",
   "name": "python",
   "nbconvert_exporter": "python",
   "pygments_lexer": "ipython3",
   "version": "3.9.12"
  }
 },
 "nbformat": 4,
 "nbformat_minor": 5
}
