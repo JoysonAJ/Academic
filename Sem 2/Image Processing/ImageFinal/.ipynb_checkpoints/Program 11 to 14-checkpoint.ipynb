{
 "cells": [
  {
   "cell_type": "markdown",
   "id": "bbbba57c",
   "metadata": {},
   "source": [
    "## 11. Demonstrate morphological operations in an input image and display the same.\n"
   ]
  },
  {
   "cell_type": "code",
   "execution_count": 1,
   "id": "2ea6054c",
   "metadata": {},
   "outputs": [],
   "source": [
    "import cv2\n",
    "import numpy as np\n",
    "path = r'./Images/image3.jpg'\n"
   ]
  },
  {
   "cell_type": "code",
   "execution_count": 2,
   "id": "fe608c9a",
   "metadata": {},
   "outputs": [
    {
     "data": {
      "text/plain": [
       "-1"
      ]
     },
     "execution_count": 2,
     "metadata": {},
     "output_type": "execute_result"
    }
   ],
   "source": [
    "imageInput = cv2.imread(path)\n",
    "kernel = np.ones((5,5),np.uint8)\n",
    "\n",
    "imag_erode = cv2.erode(imageInput,kernel,iterations=1)\n",
    "imag_dilate = cv2.dilate(imageInput,kernel,iterations=1)\n",
    "\n",
    "opening = cv2.morphologyEx(imageInput,cv2.MORPH_OPEN,kernel,iterations=1)\n",
    "closing = cv2.morphologyEx(imageInput,cv2.MORPH_CLOSE,kernel,iterations=1)\n",
    "\n",
    "cv2.imshow(\"ORGINAL\",imageInput)\n",
    "cv2.imshow(\"EROSION\",imag_erode)\n",
    "cv2.imshow(\"DILATION\",imag_dilate)\n",
    "cv2.imshow(\"OPENING\",opening)\n",
    "cv2.imshow(\"CLOSING\",closing)\n",
    "cv2.waitKey(0)"
   ]
  },
  {
   "cell_type": "markdown",
   "id": "b7a3051f",
   "metadata": {},
   "source": [
    "## 12 Write a python program using OpenCV library and perform Simple thresholding for an image. Demonstrate the following Simple thresholding techniques. "
   ]
  },
  {
   "cell_type": "markdown",
   "id": "8e6ba36e",
   "metadata": {},
   "source": [
    "### a) Binary threshold "
   ]
  },
  {
   "cell_type": "code",
   "execution_count": 3,
   "id": "9d6f6d33",
   "metadata": {},
   "outputs": [],
   "source": [
    "import cv2\n",
    "path = r'./Images/Image22.jpg'\n",
    "imageOriginal = cv2.imread(path)"
   ]
  },
  {
   "cell_type": "code",
   "execution_count": 6,
   "id": "d014f455",
   "metadata": {},
   "outputs": [
    {
     "data": {
      "text/plain": [
       "-1"
      ]
     },
     "execution_count": 6,
     "metadata": {},
     "output_type": "execute_result"
    }
   ],
   "source": [
    "originalGray = cv2.cvtColor(imageOriginal,cv2.COLOR_BGR2GRAY)\n",
    "ret,Thresh = cv2.threshold(originalGray,120,255,cv2.THRESH_BINARY)\n",
    "\n",
    "cv2.imshow(\"Original\",imageOriginal)\n",
    "cv2.imshow(\"GrayImage\",originalGray)\n",
    "cv2.imshow(\"Binary\",Thresh)\n",
    "cv2.waitKey(0)"
   ]
  },
  {
   "cell_type": "markdown",
   "id": "b6cd230f",
   "metadata": {},
   "source": [
    "###  b) Inverted Binary threshold"
   ]
  },
  {
   "cell_type": "code",
   "execution_count": 7,
   "id": "4daf0051",
   "metadata": {},
   "outputs": [],
   "source": [
    "import cv2\n",
    "path = r'./Images/Image22.jpg'\n",
    "imageOriginal = cv2.imread(path)"
   ]
  },
  {
   "cell_type": "code",
   "execution_count": 8,
   "id": "b7ed671c",
   "metadata": {},
   "outputs": [
    {
     "data": {
      "text/plain": [
       "-1"
      ]
     },
     "execution_count": 8,
     "metadata": {},
     "output_type": "execute_result"
    }
   ],
   "source": [
    "originalGray = cv2.cvtColor(imageOriginal,cv2.COLOR_BGR2GRAY)\n",
    "ret,ThreshInv = cv2.threshold(originalGray,120,255,cv2.THRESH_BINARY_INV)\n",
    "\n",
    "cv2.imshow(\"Original\",imageOriginal)\n",
    "cv2.imshow(\"GrayImage\",originalGray)\n",
    "cv2.imshow(\"Binary\",ThreshInv)\n",
    "cv2.waitKey(0)"
   ]
  },
  {
   "cell_type": "markdown",
   "id": "34b638d7",
   "metadata": {},
   "source": [
    "### c. Threshold truncate"
   ]
  },
  {
   "cell_type": "code",
   "execution_count": 9,
   "id": "67495390",
   "metadata": {},
   "outputs": [],
   "source": [
    "import cv2\n",
    "path = r'./Images/Image22.jpg'\n",
    "imageOriginal = cv2.imread(path)"
   ]
  },
  {
   "cell_type": "code",
   "execution_count": 11,
   "id": "742ee201",
   "metadata": {},
   "outputs": [
    {
     "data": {
      "text/plain": [
       "-1"
      ]
     },
     "execution_count": 11,
     "metadata": {},
     "output_type": "execute_result"
    }
   ],
   "source": [
    "originalGray = cv2.cvtColor(imageOriginal,cv2.COLOR_BGR2GRAY)\n",
    "ret,ThreshTruncate = cv2.threshold(originalGray,120,255,cv2.THRESH_TRUNC)\n",
    "\n",
    "cv2.imshow(\"Original\",imageOriginal)\n",
    "cv2.imshow(\"GrayImage\",originalGray)\n",
    "cv2.imshow(\"Truncate\",ThreshTruncate)\n",
    "cv2.waitKey(0)"
   ]
  },
  {
   "cell_type": "markdown",
   "id": "bc803a53",
   "metadata": {},
   "source": [
    "### d. Threshold to zero"
   ]
  },
  {
   "cell_type": "code",
   "execution_count": 12,
   "id": "67b11e1e",
   "metadata": {},
   "outputs": [],
   "source": [
    "import cv2\n",
    "path = r'./Images/Image22.jpg'\n",
    "imageOriginal = cv2.imread(path)"
   ]
  },
  {
   "cell_type": "code",
   "execution_count": 14,
   "id": "a39fbcfe",
   "metadata": {},
   "outputs": [
    {
     "data": {
      "text/plain": [
       "-1"
      ]
     },
     "execution_count": 14,
     "metadata": {},
     "output_type": "execute_result"
    }
   ],
   "source": [
    "originalGray = cv2.cvtColor(imageOriginal,cv2.COLOR_BGR2GRAY)\n",
    "ret,Thresh_zer0 = cv2.threshold(originalGray,120,255,cv2.THRESH_TOZERO)\n",
    "\n",
    "cv2.imshow(\"Original\",imageOriginal)\n",
    "cv2.imshow(\"GrayImage\",originalGray)\n",
    "cv2.imshow(\"Zero Thresh\",Thresh_zer0)\n",
    "cv2.waitKey(0)"
   ]
  },
  {
   "cell_type": "markdown",
   "id": "cba9a471",
   "metadata": {},
   "source": [
    "## 13. Demonstrate Adaptive thresholding in an input image. Use both the Adaptive thresholding methods "
   ]
  },
  {
   "cell_type": "code",
   "execution_count": 19,
   "id": "95d9d5e3",
   "metadata": {},
   "outputs": [],
   "source": [
    "import cv2\n",
    "path = r'./Images/Image5.jpg'\n",
    "imageOriginal = cv2.imread(path,0)\n"
   ]
  },
  {
   "cell_type": "code",
   "execution_count": 21,
   "id": "795bf7c8",
   "metadata": {},
   "outputs": [
    {
     "data": {
      "text/plain": [
       "-1"
      ]
     },
     "execution_count": 21,
     "metadata": {},
     "output_type": "execute_result"
    }
   ],
   "source": [
    "\n",
    "thrsh1 = cv2.adaptiveThreshold(imageOriginal,255,cv2.ADAPTIVE_THRESH_MEAN_C,cv2.THRESH_BINARY,199,5)\n",
    "\n",
    "thrsh2 = cv2.adaptiveThreshold(imageOriginal,255,cv2.ADAPTIVE_THRESH_GAUSSIAN_C,cv2.THRESH_BINARY,199,5)\n",
    "\n",
    "cv2.imshow(\"Original\",imageOriginal)\n",
    "cv2.imshow(\"Adm\",thrsh1)\n",
    "cv2.imshow(\"Adg\",thrsh2)\n",
    "cv2.waitKey(0)"
   ]
  },
  {
   "cell_type": "markdown",
   "id": "3ab15895",
   "metadata": {},
   "source": [
    "## 14. Apply Otsu thresholding in an input image with binary thresholding and Inverted binary threshold. "
   ]
  },
  {
   "cell_type": "code",
   "execution_count": 26,
   "id": "bae81c6c",
   "metadata": {},
   "outputs": [],
   "source": [
    "import cv2\n",
    "path = r'./Images/Image5.jpg'\n",
    "imageOriginal1 = cv2.imread(path)"
   ]
  },
  {
   "cell_type": "code",
   "execution_count": 27,
   "id": "2aefc145",
   "metadata": {},
   "outputs": [
    {
     "data": {
      "text/plain": [
       "-1"
      ]
     },
     "execution_count": 27,
     "metadata": {},
     "output_type": "execute_result"
    }
   ],
   "source": [
    "originalGray = cv2.cvtColor(imageOriginal1,cv2.COLOR_BGR2GRAY)\n",
    "ret1,Thresh1 = cv2.threshold(originalGray,120,255,cv2.THRESH_BINARY+cv2.THRESH_OTSU)\n",
    "ret2,Thresh2 = cv2.threshold(originalGray,120,255,cv2.THRESH_BINARY_INV+cv2.THRESH_OTSU)\n",
    "\n",
    "cv2.imshow(\"Original\",imageOriginal1)\n",
    "cv2.imshow(\"Binary OTSU\",Thresh1)\n",
    "cv2.imshow(\"Binary INV OTSU\",Thresh2)\n",
    "cv2.waitKey(0)"
   ]
  },
  {
   "cell_type": "code",
   "execution_count": null,
   "id": "f28e4c5c",
   "metadata": {},
   "outputs": [],
   "source": []
  }
 ],
 "metadata": {
  "kernelspec": {
   "display_name": "Python 3 (ipykernel)",
   "language": "python",
   "name": "python3"
  },
  "language_info": {
   "codemirror_mode": {
    "name": "ipython",
    "version": 3
   },
   "file_extension": ".py",
   "mimetype": "text/x-python",
   "name": "python",
   "nbconvert_exporter": "python",
   "pygments_lexer": "ipython3",
   "version": "3.9.12"
  }
 },
 "nbformat": 4,
 "nbformat_minor": 5
}
