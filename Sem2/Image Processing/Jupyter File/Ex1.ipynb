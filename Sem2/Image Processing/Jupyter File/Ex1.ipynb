{
 "cells": [
  {
   "cell_type": "code",
   "execution_count": 1,
   "id": "4438fb51",
   "metadata": {},
   "outputs": [],
   "source": [
    "import cv2\n"
   ]
  },
  {
   "cell_type": "code",
   "execution_count": 3,
   "id": "add7ff67",
   "metadata": {},
   "outputs": [],
   "source": [
    "dirName = r'E:\\Submission\\WorkBranch\\MCA-2021\\sem_2\\Image Processing\\Jupyter File\\Images'\n",
    "image1 =dirName+'\\Image3.jpg'\n",
    "img = cv2.imread(image1,cv2.IMREAD_GRAYSCALE)\n"
   ]
  },
  {
   "cell_type": "code",
   "execution_count": 4,
   "id": "329f4666",
   "metadata": {},
   "outputs": [],
   "source": [
    "cv2.imshow('image',img)\n",
    "cv2.waitKey(0)\n",
    "cv2.destroyAllWindows()"
   ]
  },
  {
   "cell_type": "markdown",
   "id": "edcecb9f",
   "metadata": {},
   "source": [
    "### Brightness"
   ]
  },
  {
   "cell_type": "code",
   "execution_count": 5,
   "id": "f4df2667",
   "metadata": {},
   "outputs": [],
   "source": [
    "import numpy as np\n",
    "\n",
    "\n",
    "image1 =dirName+'\\Image3.jpg'\n",
    "image = cv2.imread(image1)\n",
    "\n"
   ]
  },
  {
   "cell_type": "code",
   "execution_count": 6,
   "id": "6cf3c182",
   "metadata": {},
   "outputs": [
    {
     "data": {
      "text/plain": [
       "-1"
      ]
     },
     "execution_count": 6,
     "metadata": {},
     "output_type": "execute_result"
    }
   ],
   "source": [
    "Intensity_Matrix=np.ones(image.shape,dtype=\"uint8\")*60\n",
    "\n",
    "brt_image=cv2.add(image,Intensity_Matrix)\n",
    "cv2.imshow(\"Bright\",brt_image)\n",
    "cv2.waitKey(0)\n",
    "\n",
    "\n",
    "# print(Intensity_Matrix)"
   ]
  },
  {
   "cell_type": "code",
   "execution_count": 7,
   "id": "844f5837",
   "metadata": {},
   "outputs": [
    {
     "name": "stdout",
     "output_type": "stream",
     "text": [
      "[[[60 60 60]\n",
      "  [60 60 60]\n",
      "  [60 60 60]\n",
      "  ...\n",
      "  [60 60 60]\n",
      "  [60 60 60]\n",
      "  [60 60 60]]\n",
      "\n",
      " [[60 60 60]\n",
      "  [60 60 60]\n",
      "  [60 60 60]\n",
      "  ...\n",
      "  [60 60 60]\n",
      "  [60 60 60]\n",
      "  [60 60 60]]\n",
      "\n",
      " [[60 60 60]\n",
      "  [60 60 60]\n",
      "  [60 60 60]\n",
      "  ...\n",
      "  [60 60 60]\n",
      "  [60 60 60]\n",
      "  [60 60 60]]\n",
      "\n",
      " ...\n",
      "\n",
      " [[60 60 60]\n",
      "  [60 60 60]\n",
      "  [60 60 60]\n",
      "  ...\n",
      "  [60 60 60]\n",
      "  [60 60 60]\n",
      "  [60 60 60]]\n",
      "\n",
      " [[60 60 60]\n",
      "  [60 60 60]\n",
      "  [60 60 60]\n",
      "  ...\n",
      "  [60 60 60]\n",
      "  [60 60 60]\n",
      "  [60 60 60]]\n",
      "\n",
      " [[60 60 60]\n",
      "  [60 60 60]\n",
      "  [60 60 60]\n",
      "  ...\n",
      "  [60 60 60]\n",
      "  [60 60 60]\n",
      "  [60 60 60]]]\n"
     ]
    }
   ],
   "source": [
    "dark_image=cv2.subtract(image,Intensity_Matrix)\n",
    "cv2.imshow(\"dark\",dark_image)\n",
    "cv2.waitKey(0)\n",
    "print(Intensity_Matrix)"
   ]
  },
  {
   "cell_type": "markdown",
   "id": "e4035e45",
   "metadata": {},
   "source": [
    "### Split the image in to R,G,B"
   ]
  },
  {
   "cell_type": "code",
   "execution_count": 8,
   "id": "f4d47a00",
   "metadata": {},
   "outputs": [],
   "source": [
    "RGBPath =dirName+'\\RGB.png'\n",
    "imageRGB = cv2.imread(RGBPath)"
   ]
  },
  {
   "cell_type": "code",
   "execution_count": 9,
   "id": "8418892c",
   "metadata": {},
   "outputs": [],
   "source": [
    "cv2.imshow(\"Original_image\",imageRGB)\n",
    "cv2.waitKey(0)\n",
    "\n",
    "\n",
    "b,g,r=cv2.split(imageRGB)"
   ]
  },
  {
   "cell_type": "code",
   "execution_count": 19,
   "id": "fb4ae1e1",
   "metadata": {},
   "outputs": [
    {
     "data": {
      "text/plain": [
       "-1"
      ]
     },
     "execution_count": 19,
     "metadata": {},
     "output_type": "execute_result"
    }
   ],
   "source": [
    "cv2.imshow(\"Red\",r)\n",
    "cv2.waitKey(0)"
   ]
  },
  {
   "cell_type": "code",
   "execution_count": null,
   "id": "46ad6433",
   "metadata": {},
   "outputs": [],
   "source": [
    "cv2.imshow(\"Blue\",b)\n",
    "cv2.waitKey(0)"
   ]
  },
  {
   "cell_type": "code",
   "execution_count": 20,
   "id": "9bd9dc39",
   "metadata": {},
   "outputs": [
    {
     "data": {
      "text/plain": [
       "-1"
      ]
     },
     "execution_count": 20,
     "metadata": {},
     "output_type": "execute_result"
    }
   ],
   "source": [
    "cv2.imshow(\"Green\",g)\n",
    "cv2.waitKey(0)"
   ]
  },
  {
   "cell_type": "markdown",
   "id": "ff605f9f",
   "metadata": {},
   "source": [
    "### Pending"
   ]
  },
  {
   "cell_type": "code",
   "execution_count": null,
   "id": "cf3b2f67",
   "metadata": {},
   "outputs": [],
   "source": []
  },
  {
   "cell_type": "code",
   "execution_count": null,
   "id": "bf45882e",
   "metadata": {},
   "outputs": [],
   "source": []
  },
  {
   "cell_type": "markdown",
   "id": "71ab3eae",
   "metadata": {},
   "source": [
    "### Rotate 60 degree\n"
   ]
  },
  {
   "cell_type": "code",
   "execution_count": 11,
   "id": "36f9eb85",
   "metadata": {},
   "outputs": [
    {
     "data": {
      "text/plain": [
       "-1"
      ]
     },
     "execution_count": 11,
     "metadata": {},
     "output_type": "execute_result"
    }
   ],
   "source": [
    "import imutils\n",
    "\n",
    "image1 =dirName+'\\Image3.jpg'\n",
    "img = cv2.imread(image1,cv2.IMREAD_COLOR)\n",
    "rotate_img = imutils.rotate(img,angle=60)\n",
    "cv2.imshow(\"Rotated\",rotate_img)\n",
    "cv2.waitKey(0)"
   ]
  },
  {
   "cell_type": "markdown",
   "id": "a9309a7a",
   "metadata": {},
   "source": [
    "### Transition"
   ]
  },
  {
   "cell_type": "code",
   "execution_count": 14,
   "id": "47fbe496",
   "metadata": {},
   "outputs": [],
   "source": [
    "image1 =dirName+'\\Image3.jpg'\n",
    "img = cv2.imread(image1,cv2.IMREAD_COLOR)\n",
    "height, width = img.shape[:2]\n",
    "quarter_height, quarter_width = height / 4, width / 4\n",
    "T = np.float32([[1, 0, quarter_width], [0, 1, quarter_height]])\n",
    "img_translation = cv2.warpAffine(img, T, (width, height))\n"
   ]
  },
  {
   "cell_type": "code",
   "execution_count": 15,
   "id": "09ce4302",
   "metadata": {},
   "outputs": [],
   "source": [
    "cv2.imshow(\"Originalimage\", img)\n",
    "cv2.waitKey()\n",
    "cv2.destroyAllWindows()"
   ]
  },
  {
   "cell_type": "code",
   "execution_count": 16,
   "id": "a326a64a",
   "metadata": {},
   "outputs": [],
   "source": [
    "cv2.imshow('Translation', img_translation)\n",
    "cv2.waitKey()\n",
    "cv2.destroyAllWindows()"
   ]
  },
  {
   "cell_type": "code",
   "execution_count": null,
   "id": "3f0284df",
   "metadata": {},
   "outputs": [],
   "source": []
  }
 ],
 "metadata": {
  "kernelspec": {
   "display_name": "Python 3 (ipykernel)",
   "language": "python",
   "name": "python3"
  },
  "language_info": {
   "codemirror_mode": {
    "name": "ipython",
    "version": 3
   },
   "file_extension": ".py",
   "mimetype": "text/x-python",
   "name": "python",
   "nbconvert_exporter": "python",
   "pygments_lexer": "ipython3",
   "version": "3.9.12"
  }
 },
 "nbformat": 4,
 "nbformat_minor": 5
}
