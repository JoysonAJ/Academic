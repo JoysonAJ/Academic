{
 "cells": [
  {
   "cell_type": "code",
   "execution_count": 1,
   "id": "64ce6c87",
   "metadata": {},
   "outputs": [],
   "source": [
    "import numpy as np"
   ]
  },
  {
   "cell_type": "code",
   "execution_count": 2,
   "id": "fbefecb4",
   "metadata": {},
   "outputs": [],
   "source": [
    "\n",
    "#Initial Values\n",
    "INPUTS = np.array([[1,1],[1,-1],[-1,1],[-1,-1]])\n",
    "LEARNING_RATE = 0.1"
   ]
  },
  {
   "cell_type": "code",
   "execution_count": 3,
   "id": "c7606ce8",
   "metadata": {},
   "outputs": [],
   "source": [
    "#step function\n",
    "def step_func(sum):\n",
    "    if sum >= 0:\n",
    "        return 1\n",
    "    return -1"
   ]
  },
  {
   "cell_type": "code",
   "execution_count": 5,
   "id": "ab03d4ed",
   "metadata": {},
   "outputs": [],
   "source": [
    "#calculating output\n",
    "def cal_output(weights, instance, bias):\n",
    "    sum = instance.dot(weights) + bias\n",
    "    return step_func(sum)"
   ]
  },
  {
   "cell_type": "code",
   "execution_count": 6,
   "id": "994f9f05",
   "metadata": {},
   "outputs": [],
   "source": [
    "#additing Algorithm\n",
    "def addline(outputs, weights, bias ):\n",
    "    total_error = 1\n",
    "    counter = 0\n",
    "    while total_error != 0 and counter < 10:\n",
    "        total_error = 0\n",
    "        counter += 1\n",
    "        for i in range(len(outputs)):\n",
    "            sum = INPUTS[i].dot(weights) + bias\n",
    "            prediction = step_func(sum)\n",
    "            total_error += outputs[i] - prediction\n",
    "            error = outputs[i] - sum\n",
    "            \n",
    "            if outputs[i] != prediction:\n",
    "                weights[0] = weights[0] + (LEARNING_RATE * error * INPUTS[i][0])\n",
    "                weights[1] = weights[1] + (LEARNING_RATE * error * INPUTS[i][1])\n",
    "                bias = bias + (LEARNING_RATE * error)\n",
    "                print(\"Weight Updated : \" + str(weights[0]))\n",
    "                print(\"Weight Updated : \" + str(weights[1]))\n",
    "                print(\"Bias Updated : \" + str(bias))\n",
    "                print(\"---------------------------------------------\")\n",
    "    \n",
    "        print(\"Total Error : \"+ str(total_error))\n",
    "        print(\"---------------------------------------------\")\n",
    "        return weights, bias"
   ]
  },
  {
   "cell_type": "code",
   "execution_count": 8,
   "id": "f7f384b7",
   "metadata": {},
   "outputs": [
    {
     "name": "stdout",
     "output_type": "stream",
     "text": [
      "Weight Updated : -0.1\n",
      "Weight Updated : 0.1\n",
      "Bias Updated : -0.1\n",
      "---------------------------------------------\n",
      "Weight Updated : 0.010000000000000009\n",
      "Weight Updated : -0.010000000000000009\n",
      "Bias Updated : -0.21000000000000002\n",
      "---------------------------------------------\n",
      "Total Error : -4\n",
      "---------------------------------------------\n",
      "Prediction for [1,1] : -1\n",
      "Prediction for [1,-1] : -1\n",
      "Prediction for [-1,1] : -1\n",
      "Prediction for [-1,-1] : -1\n"
     ]
    }
   ],
   "source": [
    "if __name__ == \"__main__\":\n",
    "    and_outputs = np.array([1,-1,-1,-1])\n",
    "    or_outputs = np.array([1,1,1,-1])\n",
    "    \n",
    "    weights = np.array([0.0,0.0])\n",
    "    bias = 0\n",
    "    returned_weights, returned_bias =  addline(and_outputs, weights, bias)\n",
    "    print('Prediction for [1,1] : '+ str(cal_output(returned_weights,np.array([1,1]),returned_bias)))\n",
    "    print('Prediction for [1,-1] : '+ str(cal_output(returned_weights,np.array([1,-1]),returned_bias)))\n",
    "    print('Prediction for [-1,1] : '+ str(cal_output(returned_weights,np.array([-1,1]),returned_bias)))\n",
    "    print('Prediction for [-1,-1] : '+ str(cal_output(returned_weights,np.array([-1,-1]),returned_bias)))"
   ]
  },
  {
   "cell_type": "code",
   "execution_count": null,
   "id": "8b102e4e",
   "metadata": {},
   "outputs": [],
   "source": []
  }
 ],
 "metadata": {
  "kernelspec": {
   "display_name": "Python 3 (ipykernel)",
   "language": "python",
   "name": "python3"
  },
  "language_info": {
   "codemirror_mode": {
    "name": "ipython",
    "version": 3
   },
   "file_extension": ".py",
   "mimetype": "text/x-python",
   "name": "python",
   "nbconvert_exporter": "python",
   "pygments_lexer": "ipython3",
   "version": "3.9.12"
  }
 },
 "nbformat": 4,
 "nbformat_minor": 5
}
