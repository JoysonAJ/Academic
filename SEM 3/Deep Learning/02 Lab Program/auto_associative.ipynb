{
 "cells": [
  {
   "cell_type": "code",
   "execution_count": 1,
   "id": "d04f6ee5",
   "metadata": {},
   "outputs": [
    {
     "name": "stdout",
     "output_type": "stream",
     "text": [
      "Auto Associative Networks\n",
      "Enter n:3\n",
      "Input Vector is [-1, 1, -1]\n",
      "Output Vector is [-1, 1, 1]\n",
      "Weights after Training:\n",
      "[[1, -1, -1], [-1, 1, 1], [1, -1, -1]]\n",
      "Test Input [1, 1, -1]\n",
      "Testing Output [-1, 1, 1]\n"
     ]
    }
   ],
   "source": [
    "## Implement Auto Associative Neural Networks\n",
    "## Auto associative neural nets are a special type of nets which store pattern associations\n",
    "## Here, the output vector is identical to the input vector\n",
    "## Both, the input layer and the output layer have 'n' neurons\n",
    "## Hebbian Learning Rule can be applied to find the weights\n",
    "\n",
    "import numpy as np\n",
    "import random\n",
    "\n",
    "print(\"Auto Associative Networks\")\n",
    "n = int(input('Enter n:'))\n",
    "X = [ random.choice([-1,1]) for i in range(n)]\n",
    "Y = [ random.choice([-1,1]) for i in range(n)]\n",
    "print(\"Input Vector is\",X)\n",
    "print(\"Output Vector is\",Y)\n",
    "weights = [ [ 0 for _ in range(n)] for _ in range(n)]\n",
    "## Training Phase\n",
    "for i in range(n):\n",
    "    for j in range(n):\n",
    "        weights[i][j]+=X[i]*Y[j]\n",
    "print(\"Weights after Training:\")\n",
    "print(weights)\n",
    "## Testing Phase\n",
    "test = [ random.choice([-1,1]) for i in range(n)]\n",
    "print(\"Test Input\",test)\n",
    "def f(yinj):\n",
    "    if yinj > 0:\n",
    "        return 1\n",
    "    else:\n",
    "        return -1\n",
    "outs= []\n",
    "for j in range(n):\n",
    "    yinj = 0\n",
    "    for i in range(n):\n",
    "        yinj+=test[i]*weights[i][j]\n",
    "    yin = f(yinj)\n",
    "    outs.append(yin)\n",
    "print(\"Testing Output\",outs)"
   ]
  },
  {
   "cell_type": "code",
   "execution_count": null,
   "id": "c7824b97",
   "metadata": {},
   "outputs": [],
   "source": []
  }
 ],
 "metadata": {
  "kernelspec": {
   "display_name": "Python 3 (ipykernel)",
   "language": "python",
   "name": "python3"
  },
  "language_info": {
   "codemirror_mode": {
    "name": "ipython",
    "version": 3
   },
   "file_extension": ".py",
   "mimetype": "text/x-python",
   "name": "python",
   "nbconvert_exporter": "python",
   "pygments_lexer": "ipython3",
   "version": "3.9.12"
  }
 },
 "nbformat": 4,
 "nbformat_minor": 5
}
