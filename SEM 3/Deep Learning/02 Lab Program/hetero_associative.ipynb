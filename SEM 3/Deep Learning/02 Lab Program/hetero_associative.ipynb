{
 "cells": [
  {
   "cell_type": "code",
   "execution_count": 21,
   "id": "b2bb664f",
   "metadata": {},
   "outputs": [
    {
     "name": "stdout",
     "output_type": "stream",
     "text": [
      "Hetero Associative Networks\n",
      "Enter n and m:2 3\n",
      "Input Vector is [1, 1]\n",
      "Output Vector is [-1, 1, 1]\n",
      "Weights after Training:\n",
      "[[-1, 1, 1], [-1, 1, 1]]\n",
      "Test Input [1, 1]\n",
      "Testing Output [-1, 1, 1]\n"
     ]
    }
   ],
   "source": [
    "## Implement Heteroassociative Networks\n",
    "## These are similar to auto associative networks, with the difference that output and input layers can have different number of \n",
    "## neurons\n",
    "\n",
    "import random\n",
    "print(\"Hetero Associative Networks\")\n",
    "n,m = map(int, input(\"Enter n and m:\").split())\n",
    "X = [ random.choice([-1,1]) for i in range(n)]\n",
    "Y = [ random.choice([-1,1]) for i in range(m)]\n",
    "print(\"Input Vector is\",X)\n",
    "print(\"Output Vector is\",Y)\n",
    "weights = [ [ 0 for _ in range(m)] for _ in range(n)]\n",
    "## Training Phase\n",
    "for i in range(n):\n",
    "    for j in range(m):\n",
    "        weights[i][j]+=X[i]*Y[j]\n",
    "print(\"Weights after Training:\")\n",
    "print(weights)\n",
    "## Testing Phase\n",
    "test = [ random.choice([-1,1]) for i in range(n)]\n",
    "print(\"Test Input\",test)\n",
    "def f(yinj):\n",
    "    if yinj > 0:\n",
    "        return 1\n",
    "    else:\n",
    "        return -1\n",
    "outs= []\n",
    "for j in range(m):\n",
    "    yinj = 0\n",
    "    for i in range(n):\n",
    "        yinj+=test[i]*weights[i][j]\n",
    "    yin = f(yinj)\n",
    "    outs.append(yin)\n",
    "print(\"Testing Output\",outs)\n"
   ]
  },
  {
   "cell_type": "code",
   "execution_count": null,
   "id": "c7824b97",
   "metadata": {},
   "outputs": [],
   "source": []
  }
 ],
 "metadata": {
  "kernelspec": {
   "display_name": "Python 3 (ipykernel)",
   "language": "python",
   "name": "python3"
  },
  "language_info": {
   "codemirror_mode": {
    "name": "ipython",
    "version": 3
   },
   "file_extension": ".py",
   "mimetype": "text/x-python",
   "name": "python",
   "nbconvert_exporter": "python",
   "pygments_lexer": "ipython3",
   "version": "3.9.7"
  }
 },
 "nbformat": 4,
 "nbformat_minor": 5
}
