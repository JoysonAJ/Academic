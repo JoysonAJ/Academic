{
 "cells": [
  {
   "cell_type": "code",
   "execution_count": null,
   "id": "c3c2e184",
   "metadata": {},
   "outputs": [],
   "source": []
  },
  {
   "cell_type": "code",
   "execution_count": 18,
   "id": "04fc3cdc",
   "metadata": {},
   "outputs": [
    {
     "name": "stdout",
     "output_type": "stream",
     "text": [
      "Enter the input value for n3\n",
      "Input Vector is [1, -1, 1]\n",
      "Output Vector is [1, -1, -1]\n",
      "Weight are is [[0, 0, 0], [0, 0, 0], [0, 0, 0]]\n",
      "trained weight [[1, 1, 1], [1, 1, 1], [-1, -1, -1]]\n",
      "Test input is [1, -1, 1]\n",
      "final result is [1, 1, -1]\n"
     ]
    }
   ],
   "source": [
    "import numpy as np\n",
    "import random\n",
    "\n",
    "n = int(input(\"Enter the input value for n\"))\n",
    "X = [random.choice([1,-1]) for i in range(n)]\n",
    "Y = [random.choice([-1,1]) for i in range(n)]\n",
    "\n",
    "print(f\"Input Vector is {X}\")\n",
    "print(f\"Output Vector is {Y}\")\n",
    "\n",
    "weight = [\n",
    "    [0 for _ in range(n)] for i in range(n)\n",
    "]\n",
    "\n",
    "print(f\"Weight are is {weight}\")\n",
    "\n",
    "#traing Phase\n",
    "for i in range(n):\n",
    "    for j in range(n):\n",
    "        weight[i][j] = weight[i][j] + X[i]*Y[i]\n",
    "print(f\"trained weight {weight}\")\n",
    "\n",
    "# Testing weight\n",
    "testInput = [random.choice([-1,1]) for i in range(n)]\n",
    "print(f\"Test input is {testInput}\")\n",
    "\n",
    "def threshold_result(yi):\n",
    "    if yi>0:\n",
    "        return 1\n",
    "    else:\n",
    "        return -1\n",
    "\n",
    "output =[]\n",
    "\n",
    "for i in range(n):\n",
    "    yi = 0\n",
    "    for j in range(n):\n",
    "        yi = yi + testInput[j] * weight[i][j]\n",
    "    Yresult = threshold_result(yi)\n",
    "    output.append(Yresult)\n",
    "    \n",
    "print(\"final result is\",output)"
   ]
  },
  {
   "cell_type": "code",
   "execution_count": null,
   "id": "3c4e08ba",
   "metadata": {},
   "outputs": [],
   "source": []
  },
  {
   "cell_type": "code",
   "execution_count": 29,
   "id": "29ccdc4d",
   "metadata": {},
   "outputs": [
    {
     "name": "stdout",
     "output_type": "stream",
     "text": [
      "Input Vector is [-1, -1, -1]\n",
      "Output Vector is [-1, -1, -1]\n",
      "Weight are is [[0, 0, 0], [0, 0, 0], [0, 0, 0]]\n",
      "trained weight [[1, 1, 1], [1, 1, 1], [1, 1, 1]]\n",
      "Test input is [-1, -1, -1]\n",
      "Result is [-1, -1, -1]\n"
     ]
    }
   ],
   "source": [
    "import random\n",
    "\n",
    "n = 3\n",
    "m = 3\n",
    "x = [random.choice([-1,1]) for i in range(n)]\n",
    "y = [random.choice([-1,1]) for j in range(m)]\n",
    "\n",
    "print(f\"Input Vector is {x}\")\n",
    "print(f\"Output Vector is {y}\")\n",
    "\n",
    "weight = [\n",
    "    [0 for i in range(n)] for j in range(m)\n",
    "]\n",
    "\n",
    "print(f\"Weight are is {weight}\")\n",
    "\n",
    "# Traing model\n",
    "for i in range(n):\n",
    "    for j in range(m):\n",
    "        weight[i][j] = weight[i][j] + x[i]*y[i]\n",
    "print(f\"trained weight {weight}\")\n",
    "\n",
    "# testing of the model\n",
    "testInput = [random.choice([-1,1]) for i in range(m)]\n",
    "print(f\"Test input is {testInput}\")\n",
    "\n",
    "def threshold_result(yi):\n",
    "    if yi>0:\n",
    "        return 1\n",
    "    else:\n",
    "        return -1\n",
    "    \n",
    "output = []\n",
    "# testing model\n",
    "for i in range(n):\n",
    "    yi = 0\n",
    "    for j in range(m):\n",
    "        yi = yi + testInput[i] * weight[i][j]\n",
    "    Yresult = threshold_result(yi)\n",
    "    output.append(Yresult)\n",
    "print(f\"Result is {output}\")"
   ]
  },
  {
   "cell_type": "code",
   "execution_count": null,
   "id": "64e2f4a8",
   "metadata": {},
   "outputs": [],
   "source": []
  }
 ],
 "metadata": {
  "kernelspec": {
   "display_name": "Python 3 (ipykernel)",
   "language": "python",
   "name": "python3"
  },
  "language_info": {
   "codemirror_mode": {
    "name": "ipython",
    "version": 3
   },
   "file_extension": ".py",
   "mimetype": "text/x-python",
   "name": "python",
   "nbconvert_exporter": "python",
   "pygments_lexer": "ipython3",
   "version": "3.9.12"
  }
 },
 "nbformat": 4,
 "nbformat_minor": 5
}
