{
 "cells": [
  {
   "cell_type": "code",
   "execution_count": 40,
   "id": "9ae29c44",
   "metadata": {},
   "outputs": [
    {
     "name": "stdout",
     "output_type": "stream",
     "text": [
      "The class is belongs  is 0\n",
      "\n",
      " Final weights [[0.3660931, 0.2816541, 1, 1], [0.33661, 0.1729, 0, 1]]\n"
     ]
    }
   ],
   "source": [
    "import math as m\n",
    "\n",
    "class SOM:\n",
    "    def winner(self,weights,sample):\n",
    "        for k in range(len(sample)):\n",
    "            D1 = m.pow((sample[k] - weights[0][k]),2)\n",
    "            D2 = m.pow((sample[k] - weights[1][k]),2)\n",
    "            \n",
    "            if D1 > D2:\n",
    "                return 0\n",
    "            else:\n",
    "                return 1\n",
    "    def update(self,weights,sample,J,alpha):\n",
    "        for k in range(len(weights)):\n",
    "            weights[J][k] = weights[J][k] + alpha * (sample[k] - weights[J][k])\n",
    "    \n",
    "def main():\n",
    "    test = [\n",
    "        [0,0,1,1],[1,0,1,0],[0,0,0,1],[0,1,1,0],[1,1,1,0],[1,0,1,1]\n",
    "    ]\n",
    "    \n",
    "    g = len(test)\n",
    "    n = len(test[0])\n",
    "    learning_rate = 0.1 \n",
    "    objLVQ = SOM()\n",
    "    weights = []\n",
    "    weights.append(test.pop(0))\n",
    "    weights.append(test.pop(1))\n",
    "#     g= g-1\n",
    "    \n",
    "#     \n",
    "    iteration = 3 \n",
    "    for i in range(iteration):\n",
    "        for k in range(n):\n",
    "            sample = test[k]\n",
    "            J = objLVQ.winner(weights,sample)\n",
    "            objLVQ.update(weights,sample,J,learning_rate)\n",
    "    \n",
    "    \n",
    "    Test = [0,1,1,1]\n",
    "    J = objLVQ.winner(weights,Test)\n",
    "    print(f\"The class is belongs  is {J}\")\n",
    "    print(f\"\\n Final weights {weights}\")\n",
    "    \n",
    "if __name__ == \"__main__\":\n",
    "    main()"
   ]
  },
  {
   "cell_type": "code",
   "execution_count": 2,
   "id": "b6056506",
   "metadata": {},
   "outputs": [
    {
     "name": "stdout",
     "output_type": "stream",
     "text": [
      "The class is belongs  is 0\n",
      "\n",
      " Final weights [[0.3660931, 0.2816541, 1, 1], [0.33661, 0.1729, 0, 1]]\n"
     ]
    }
   ],
   "source": [
    "import math as m\n",
    "\n",
    "class LVQ:\n",
    "    def winner(self,weights,sample):\n",
    "        for k in range(len(sample)):\n",
    "            D1 = m.pow((sample[k] - weights[0][k]),2)\n",
    "            D2 = m.pow((sample[k] - weights[1][k]),2)\n",
    "            \n",
    "            if D1 > D2:\n",
    "                return 0\n",
    "            else:\n",
    "                return 1\n",
    "    def update(self,weights,sample,J,alpha):\n",
    "        for k in range(len(weights)):\n",
    "            weights[J][k] = weights[J][k] + alpha * (sample[k] - weights[J][k])\n",
    "    \n",
    "def main():\n",
    "    test = [\n",
    "        [0,0,1,1],[1,0,1,0],[0,0,0,1],[0,1,1,0],[1,1,1,0],[1,0,1,1]\n",
    "    ]\n",
    "    \n",
    "    g= len(test)\n",
    "    learning_rate = 0.1 \n",
    "    objLVQ = LVQ()\n",
    "    weights = []\n",
    "    weights.append(test.pop(0))\n",
    "    weights.append(test.pop(1))\n",
    "    g= g-2\n",
    "    \n",
    "#     \n",
    "    iteration = 3 \n",
    "    for i in range(iteration):\n",
    "        for k in range(g):\n",
    "            sample = test[k]\n",
    "            J = objLVQ.winner(weights,sample)\n",
    "            objLVQ.update(weights,sample,J,learning_rate)\n",
    "    \n",
    "    \n",
    "    Test = [0,1,1,1]\n",
    "    J = objLVQ.winner(weights,Test)\n",
    "    print(f\"The class is belongs  is {J}\")\n",
    "    print(f\"\\n Final weights {weights}\")\n",
    "    \n",
    "if __name__ == \"__main__\":\n",
    "    main()"
   ]
  },
  {
   "cell_type": "code",
   "execution_count": null,
   "id": "3784d9d6",
   "metadata": {},
   "outputs": [],
   "source": []
  }
 ],
 "metadata": {
  "kernelspec": {
   "display_name": "Python 3 (ipykernel)",
   "language": "python",
   "name": "python3"
  },
  "language_info": {
   "codemirror_mode": {
    "name": "ipython",
    "version": 3
   },
   "file_extension": ".py",
   "mimetype": "text/x-python",
   "name": "python",
   "nbconvert_exporter": "python",
   "pygments_lexer": "ipython3",
   "version": "3.9.12"
  }
 },
 "nbformat": 4,
 "nbformat_minor": 5
}
