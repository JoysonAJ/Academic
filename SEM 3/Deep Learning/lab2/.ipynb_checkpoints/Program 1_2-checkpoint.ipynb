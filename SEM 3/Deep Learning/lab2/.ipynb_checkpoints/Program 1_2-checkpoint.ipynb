{
 "cells": [
  {
   "cell_type": "code",
   "execution_count": 1,
   "id": "dced9488",
   "metadata": {},
   "outputs": [],
   "source": [
    "#McCullouch\n"
   ]
  },
  {
   "cell_type": "code",
   "execution_count": 5,
   "id": "b0bda994",
   "metadata": {},
   "outputs": [
    {
     "name": "stdout",
     "output_type": "stream",
     "text": [
      "Input Vector [0 1 1]\n",
      "Weight Vector[-1  1  1]\n",
      "Result of Array multplication is 2\n",
      "Result if threshold is 1 then = 1\n",
      "Result if threshold is 1 then = 0\n"
     ]
    }
   ],
   "source": [
    "from numpy import array\n",
    "F = array([0,1,1])\n",
    "X = array([-1,1,1])\n",
    "FX = F @ X\n",
    "\n",
    "#Display Above result\n",
    "print(f\"Input Vector {F}\")\n",
    "print(f\"Weight Vector{X}\")\n",
    "print(f\"Result of Array multplication is {FX}\")\n",
    "\n",
    "#Now write final function for Threshold value\n",
    "def linear_threshold_gate(FX:int,T:float):\n",
    "    '''returns the binary threshold output'''\n",
    "    \n",
    "    if FX >= T:\n",
    "        return 1\n",
    "    else:\n",
    "        return 0\n",
    "    \n",
    "print(\"\\n --------------------------------------------------- \\n\")\n",
    "    \n",
    "T = 1\n",
    "activation = linear_threshold_gate(FX,T)\n",
    "print(f'Result if threshold is 1 then = {activation}')\n",
    "\n",
    "T = 3\n",
    "activation = linear_threshold_gate(FX,T)\n",
    "print(f'Result if threshold is 1 then = {activation}')"
   ]
  },
  {
   "cell_type": "code",
   "execution_count": null,
   "id": "4a2bb7cf",
   "metadata": {},
   "outputs": [],
   "source": []
  }
 ],
 "metadata": {
  "kernelspec": {
   "display_name": "Python 3 (ipykernel)",
   "language": "python",
   "name": "python3"
  },
  "language_info": {
   "codemirror_mode": {
    "name": "ipython",
    "version": 3
   },
   "file_extension": ".py",
   "mimetype": "text/x-python",
   "name": "python",
   "nbconvert_exporter": "python",
   "pygments_lexer": "ipython3",
   "version": "3.9.12"
  }
 },
 "nbformat": 4,
 "nbformat_minor": 5
}
