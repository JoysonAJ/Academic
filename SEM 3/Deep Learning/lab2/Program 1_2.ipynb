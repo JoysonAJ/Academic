{
 "cells": [
  {
   "cell_type": "code",
   "execution_count": 1,
   "id": "dbb1fa44",
   "metadata": {},
   "outputs": [],
   "source": [
    "#McCullouch\n"
   ]
  },
  {
   "cell_type": "code",
   "execution_count": 6,
   "id": "b0d82a86",
   "metadata": {},
   "outputs": [
    {
     "name": "stdout",
     "output_type": "stream",
     "text": [
      "Input Vector [0 1 1]\n",
      "Weight Vector[-1  1  1]\n",
      "Result of Array multplication is 2\n",
      "\n",
      " --------------------------------------------------- \n",
      "\n",
      "Result if threshold is 1 then = 1\n",
      "Result if threshold is 1 then = 0\n"
     ]
    }
   ],
   "source": [
    "from numpy import array\n",
    "F = array([0,1,1])\n",
    "X = array([-1,1,1])\n",
    "FX = F @ X\n",
    "\n",
    "#Display Above result\n",
    "print(f\"Input Vector {F}\")\n",
    "print(f\"Weight Vector{X}\")\n",
    "print(f\"Result of Array multplication is {FX}\")\n",
    "\n",
    "#Now write final function for Threshold value\n",
    "def linear_threshold_gate(FX:int,T:float):\n",
    "    '''returns the binary threshold output'''\n",
    "    \n",
    "    if FX >= T:\n",
    "        return 1\n",
    "    else:\n",
    "        return 0\n",
    "    \n",
    "print(\"\\n --------------------------------------------------- \\n\")\n",
    "    \n",
    "T = 1\n",
    "activation = linear_threshold_gate(FX,T)\n",
    "print(f'Result if threshold is 1 then = {activation}')\n",
    "\n",
    "T = 3\n",
    "activation = linear_threshold_gate(FX,T)\n",
    "print(f'Result if threshold is 1 then = {activation}')"
   ]
  },
  {
   "cell_type": "markdown",
   "id": "ee3d8cb3",
   "metadata": {},
   "source": [
    "# Simulate Hebb learning network for bipolar OR gate."
   ]
  },
  {
   "cell_type": "code",
   "execution_count": 1,
   "id": "14b642ce",
   "metadata": {},
   "outputs": [
    {
     "name": "stdout",
     "output_type": "stream",
     "text": [
      "epoch 1\n",
      "Updated weight is : -1\n",
      "Updated bais is : -1\n",
      "The Updated weight -2\n",
      "Final Bias -2\n",
      "\n",
      "______________________________\n",
      "\n",
      "Updated weight is : -1\n",
      "Updated bais is : 1\n",
      "The Updated weight -2\n",
      "Final Bias 2\n",
      "\n",
      "______________________________\n",
      "\n",
      "Updated weight is : 1\n",
      "Updated bais is : -1\n",
      "The Updated weight 2\n",
      "Final Bias -2\n",
      "\n",
      "______________________________\n",
      "\n",
      "Updated weight is : -1\n",
      "Updated bais is : -1\n",
      "The Updated weight -2\n",
      "Final Bias -2\n",
      "\n",
      "______________________________\n",
      "\n"
     ]
    }
   ],
   "source": [
    "from numpy import array\n",
    "features = array([\n",
    "    [1,1],\n",
    "    [1,-1],\n",
    "    [-1,1],\n",
    "    [-1,-1]\n",
    "])\n",
    "lables = array([-1,1,-1,-1])\n",
    "\n",
    "weight = 0\n",
    "bias = 0\n",
    "epoch = 1\n",
    "\n",
    "for i in range(epoch):\n",
    "    print(\"epoch\",i+1)\n",
    "    \n",
    "    for j in range(features.shape[0]):\n",
    "        actual = lables[j]\n",
    "        x1 = features[j][0]\n",
    "        x2 = features[j][1]\n",
    "        \n",
    "        newWeight = weight + actual * x1 * x2\n",
    "        newBais = bias + actual\n",
    "        \n",
    "        print(\"Updated weight is :\",newWeight)\n",
    "        print(\"Updated bais is :\",newBais)\n",
    "        \n",
    "#         Final step\n",
    "        finalWeight = newWeight + actual * x1 * x2\n",
    "        finalBais = newBais + actual\n",
    "        \n",
    "        print(\"The Updated weight\",finalWeight)\n",
    "        print(\"Final Bias\",finalBais)\n",
    "        print(\"\\n______________________________\\n\")\n",
    "\n"
   ]
  },
  {
   "cell_type": "code",
   "execution_count": null,
   "id": "6a2f3579",
   "metadata": {},
   "outputs": [],
   "source": []
  }
 ],
 "metadata": {
  "kernelspec": {
   "display_name": "Python 3 (ipykernel)",
   "language": "python",
   "name": "python3"
  },
  "language_info": {
   "codemirror_mode": {
    "name": "ipython",
    "version": 3
   },
   "file_extension": ".py",
   "mimetype": "text/x-python",
   "name": "python",
   "nbconvert_exporter": "python",
   "pygments_lexer": "ipython3",
   "version": "3.9.12"
  }
 },
 "nbformat": 4,
 "nbformat_minor": 5
}
