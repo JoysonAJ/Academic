{
 "cells": [
  {
   "cell_type": "code",
   "execution_count": 1,
   "metadata": {
    "id": "kvnDZHSX4oFy"
   },
   "outputs": [],
   "source": [
    "import numpy as np\n",
    "from numpy import array"
   ]
  },
  {
   "cell_type": "code",
   "execution_count": 2,
   "metadata": {
    "colab": {
     "base_uri": "https://localhost:8080/"
    },
    "id": "PXeIxKZh40c3",
    "outputId": "34c2b304-52f9-4ce7-9316-be9fc6e5965d"
   },
   "outputs": [
    {
     "name": "stdout",
     "output_type": "stream",
     "text": [
      "Input vector : [0 1 1] \n",
      "Weight Vector : [-1  1  1]\n",
      "Weighted Sum : 2\n"
     ]
    }
   ],
   "source": [
    "np.random.seed(seed=0)\n",
    "X = array([0,1,1])\n",
    "W = array([-1,1,1])\n",
    "print(f'Input vector : {X} \\nWeight Vector : {W}')\n",
    "Fx = W @ X\n",
    "print(f'Weighted Sum : {Fx}')"
   ]
  },
  {
   "cell_type": "code",
   "execution_count": 3,
   "metadata": {
    "colab": {
     "base_uri": "https://localhost:8080/"
    },
    "id": "vimsD_dO41hT",
    "outputId": "d47b72e2-e761-4363-b7b9-8cfd73fa72af"
   },
   "outputs": [
    {
     "name": "stdout",
     "output_type": "stream",
     "text": [
      "Activation (IF threshold = 1): 1\n",
      "Activation (IF threshold = 3): 0\n"
     ]
    }
   ],
   "source": [
    "#Threshold calculated based in the weighted sum\n",
    "def linear_threshold_gate(Fx:int, T: float) -> int:\n",
    "    '''Returns the binary threshold output'''\n",
    "    if Fx >= T:\n",
    "        return 1\n",
    "    else:\n",
    "        return 0\n",
    "\n",
    "T = 1 # if threshold =1\n",
    "activation = linear_threshold_gate(Fx,T)\n",
    "print(f'Activation (IF threshold = 1): {activation}')\n",
    "\n",
    "T = 3\n",
    "activation = linear_threshold_gate(Fx,T)\n",
    "print(f'Activation (IF threshold = 3): {activation}')\n"
   ]
  },
  {
   "cell_type": "code",
   "execution_count": null,
   "metadata": {
    "id": "kvwxignM42t5"
   },
   "outputs": [],
   "source": []
  }
 ],
 "metadata": {
  "colab": {
   "provenance": []
  },
  "kernelspec": {
   "display_name": "Python 3 (ipykernel)",
   "language": "python",
   "name": "python3"
  },
  "language_info": {
   "codemirror_mode": {
    "name": "ipython",
    "version": 3
   },
   "file_extension": ".py",
   "mimetype": "text/x-python",
   "name": "python",
   "nbconvert_exporter": "python",
   "pygments_lexer": "ipython3",
   "version": "3.9.12"
  }
 },
 "nbformat": 4,
 "nbformat_minor": 1
}
