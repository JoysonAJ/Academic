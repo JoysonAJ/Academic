{
  "nbformat": 4,
  "nbformat_minor": 0,
  "metadata": {
    "colab": {
      "provenance": []
    },
    "kernelspec": {
      "name": "python3",
      "display_name": "Python 3"
    },
    "language_info": {
      "name": "python"
    }
  },
  "cells": [
    {
      "cell_type": "code",
      "execution_count": 9,
      "metadata": {
        "colab": {
          "base_uri": "https://localhost:8080/"
        },
        "id": "-wIwu1SZCdJN",
        "outputId": "b5344673-9521-41cf-8b7a-6c86a280d6c3"
      },
      "outputs": [
        {
          "output_type": "stream",
          "name": "stdout",
          "text": [
            "[[0.799683  ]\n",
            " [0.81490972]\n",
            " [0.83921297]\n",
            " [0.84540002]]\n"
          ]
        }
      ],
      "source": [
        "import numpy as np\n",
        "\n",
        "def sigmoid(g):\n",
        "    return 1/ (1+ np.exp(-2 * g))\n",
        "\n",
        "def sigmoid_gradient(g):\n",
        "    return g * (1 - g )\n",
        "\n",
        "def feedforwardprop(input_layer, output_layer, hidden_weights, output_weights, bias):\n",
        "    z2 = np.dot(input_layer, hidden_weights)\n",
        "    a2 = sigmoid(z2)\n",
        "    a2 = a2.T\n",
        "    a2 = np.vstack((a2,bias)).T\n",
        "    z3 = np.dot(a2, output_weights)\n",
        "    a3 = sigmoid(z3)\n",
        "    return a2, a3, hidden_weights, output_weights\n",
        "\n",
        "def backpropogation(input_layer, output_layer, hidden_weights, output_weights, bias, iterations):\n",
        "    for _ in range(iterations):\n",
        "        a2, a3, hidden_weights, output_weights = feedforwardprop(input_layer, output_layer, hidden_weights, output_weights, bias)\n",
        "        error_a3 = output_layer - a3\n",
        "        error_a2 = np.dot(error_a3, output_weights[0:2, :].T) * sigmoid(np.dot(input_layer, hidden_weights))\n",
        "        \n",
        "        delta_a3 = error_a3 * sigmoid_gradient(a3)\n",
        "        delta_a2 = error_a2 * sigmoid_gradient(a2[:, 0:2])\n",
        "        \n",
        "        #updated weights\n",
        "        output_weights += np.dot(a2.T, delta_a3)\n",
        "        hidden_weights += np.dot(input_layer.T, delta_a2)\n",
        "        return a3\n",
        "\n",
        "#data\n",
        "input_layer = np.array([[0,0,1], [0,1,1], [1,0,1], [1,1,1]])\n",
        "output_layer = np.array([[0,1,1,0]]).T\n",
        "\n",
        "#randomly init..weights\n",
        "np.random.seed(1)\n",
        "hidden_weights = np.random.random((3, 2))\n",
        "output_weights = np.random.random((3, 1))\n",
        "\n",
        "#number of iteration\n",
        "iterations = 10000\n",
        "#bias term\n",
        "bias = np.ones((1, 4))\n",
        "\n",
        "print(backpropogation(input_layer, output_layer, hidden_weights, output_weights, bias, iterations))"
      ]
    },
    {
      "cell_type": "code",
      "source": [],
      "metadata": {
        "id": "U54cL6V3Fk8P"
      },
      "execution_count": null,
      "outputs": []
    }
  ]
}