{
  "nbformat": 4,
  "nbformat_minor": 0,
  "metadata": {
    "colab": {
      "provenance": []
    },
    "kernelspec": {
      "name": "python3",
      "display_name": "Python 3"
    },
    "language_info": {
      "name": "python"
    }
  },
  "cells": [
    {
      "cell_type": "code",
      "execution_count": 5,
      "metadata": {
        "colab": {
          "base_uri": "https://localhost:8080/"
        },
        "id": "V4Y72OIcj5Uy",
        "outputId": "8279cef4-1a11-4750-aab6-63386f4ba8c3"
      },
      "outputs": [
        {
          "output_type": "stream",
          "name": "stdout",
          "text": [
            "Test Sample s belongs to Cluster :  0\n",
            "Trained Weights :  [[0.33330078125, 0.066796875, 0.5, 0.9], [0.8, 0.4, 0.7, 0.3]]\n"
          ]
        }
      ],
      "source": [
        "import math\n",
        "\n",
        "class SOM:\n",
        "  #function here computes the winnig vector\n",
        "  #by Euclidean distance\n",
        "  def winner(self, weights, sample):\n",
        "    D0 = 0\n",
        "    D1 = 0\n",
        "\n",
        "    for i in range(len(sample)):\n",
        "      D0 = D0 + math.pow((sample[i] - weights[0][i]),2)\n",
        "      D0 = D1 + math.pow((sample[i] - weights[1][i]),2)\n",
        "\n",
        "      if D0 > D1:\n",
        "        return 0\n",
        "      else:\n",
        "        return 1\n",
        "  \n",
        "  #function here updates the winning vector\n",
        "\n",
        "  def update(self, weights,sample, J, alpha):\n",
        "    for i in range(len(weights)):\n",
        "      weights[J][i] = weights[J][i] + alpha * (sample[i] - weights[J][i])\n",
        "    return weights\n",
        "\n",
        "#driver code\n",
        "def main():\n",
        "  \n",
        "  #training Example(m ,n)\n",
        "  T = [[1,1,0,0],[0,0,0,1],[1,0,0,0],[0,0,1,1]]\n",
        "  m,n = len(T), len(T[0])\n",
        "\n",
        "  #weights initialization(n ,C)\n",
        "  weights  = [[0.2,0.6,0.5,0.9],[0.8,0.4,0.7,0.3]]\n",
        "  \n",
        "  #training\n",
        "  ob = SOM()\n",
        "  epochs = 3\n",
        "  alpha = 0.5\n",
        "\n",
        "  for i in range(epochs):\n",
        "    for j in range(m):\n",
        "      #training sample\n",
        "      sample = T[j]\n",
        "\n",
        "      #compute winner vector\n",
        "      J = ob.winner(weights,sample)\n",
        "\n",
        "      #Update winning vector\n",
        "      weights = ob.update(weights,sample,J,alpha)\n",
        "  \n",
        "  #classify test sample\n",
        "  s = [0,0,0,1]\n",
        "  J = ob.winner(weights, s)\n",
        "\n",
        "  print(\"Test Sample s belongs to Cluster : \", J)\n",
        "  print(\"Trained Weights : \", weights)\n",
        "\n",
        "if __name__ == \"__main__\":\n",
        "  main()"
      ]
    },
    {
      "cell_type": "code",
      "source": [],
      "metadata": {
        "id": "py5krvPHl6A2"
      },
      "execution_count": null,
      "outputs": []
    }
  ]
}