{
 "cells": [
  {
   "cell_type": "code",
   "execution_count": 1,
   "id": "d3c6d078",
   "metadata": {},
   "outputs": [],
   "source": [
    "import numpy as np"
   ]
  },
  {
   "cell_type": "code",
   "execution_count": 12,
   "id": "f7ec5149",
   "metadata": {},
   "outputs": [],
   "source": [
    "def unitStep(v):\n",
    "    if v >= 0:\n",
    "        return 1\n",
    "    else:\n",
    "        return 0\n",
    "    \n",
    "def perceptronModel(x,w,b):\n",
    "    v = np.dot(w,x)+b\n",
    "    y = unitStep(v)\n",
    "    return y"
   ]
  },
  {
   "cell_type": "code",
   "execution_count": 4,
   "id": "760f8d98",
   "metadata": {},
   "outputs": [],
   "source": [
    "def NOT_logic(x):\n",
    "    wNOT = -1\n",
    "    bNOT = 0.5\n",
    "    return perceptronModel(x, wNOT, bNOT)"
   ]
  },
  {
   "cell_type": "code",
   "execution_count": 5,
   "id": "33312961",
   "metadata": {},
   "outputs": [],
   "source": [
    "def AND_logic(x):\n",
    "    w = np.array([1,1])\n",
    "    bAND = -1.5\n",
    "    return perceptronModel(x, w, bAND)"
   ]
  },
  {
   "cell_type": "code",
   "execution_count": 6,
   "id": "db99671d",
   "metadata": {},
   "outputs": [],
   "source": [
    "def OR_logic(x):\n",
    "    w = np.array([1,1])\n",
    "    bOR = -0.5\n",
    "    return perceptronModel(x, w, bOR)"
   ]
  },
  {
   "cell_type": "code",
   "execution_count": 7,
   "id": "fe391872",
   "metadata": {},
   "outputs": [],
   "source": [
    "def XOR_logic(x):\n",
    "    y1 = AND_logic(x)\n",
    "    y2 = OR_logic(x)\n",
    "    y3 = NOT_logic(y1)\n",
    "    final_x = np.array([y2,y3])\n",
    "    finalOutput = AND_logic(final_x)\n",
    "    return finalOutput"
   ]
  },
  {
   "cell_type": "code",
   "execution_count": 8,
   "id": "152c55e2",
   "metadata": {},
   "outputs": [],
   "source": [
    "test1 = np.array([0,1])\n",
    "test2 = np.array([1,1])\n",
    "test3 = np.array([0,0])\n",
    "test4 = np.array([1,0])"
   ]
  },
  {
   "cell_type": "code",
   "execution_count": 9,
   "id": "23db6119",
   "metadata": {},
   "outputs": [
    {
     "name": "stdout",
     "output_type": "stream",
     "text": [
      "\n",
      "AND(0, 1) = 0\n",
      "AND(1, 1) = 1\n",
      "AND(0, 0) = 0\n",
      "AND(1, 0) = 0\n"
     ]
    }
   ],
   "source": [
    "print('\\nAND({}, {}) = {}'.format(0,1,AND_logic(test1)))\n",
    "print('AND({}, {}) = {}'.format(1,1,AND_logic(test2)))\n",
    "print('AND({}, {}) = {}'.format(0,0,AND_logic(test3)))\n",
    "print('AND({}, {}) = {}'.format(1,0,AND_logic(test4)))"
   ]
  },
  {
   "cell_type": "code",
   "execution_count": 10,
   "id": "7ae272e9",
   "metadata": {},
   "outputs": [
    {
     "name": "stdout",
     "output_type": "stream",
     "text": [
      "\n",
      "OR(0, 1) = 1\n",
      "OR(1, 1) = 1\n",
      "OR(0, 0) = 0\n",
      "OR(1, 0) = 1\n"
     ]
    }
   ],
   "source": [
    "print('\\nOR({}, {}) = {}'.format(0,1,OR_logic(test1)))\n",
    "print('OR({}, {}) = {}'.format(1,1,OR_logic(test2)))\n",
    "print('OR({}, {}) = {}'.format(0,0,OR_logic(test3)))\n",
    "print('OR({}, {}) = {}'.format(1,0,OR_logic(test4)))\n"
   ]
  },
  {
   "cell_type": "code",
   "execution_count": 11,
   "id": "f5909bef",
   "metadata": {},
   "outputs": [
    {
     "name": "stdout",
     "output_type": "stream",
     "text": [
      "\n",
      "XOR(0, 1) = 1\n",
      "XOR(1, 1) = 0\n",
      "XOR(0, 0) = 0\n",
      "XOR(1, 0) = 1\n"
     ]
    }
   ],
   "source": [
    "\n",
    "print('\\nXOR({}, {}) = {}'.format(0,1,XOR_logic(test1)))\n",
    "print('XOR({}, {}) = {}'.format(1,1,XOR_logic(test2)))\n",
    "print('XOR({}, {}) = {}'.format(0,0,XOR_logic(test3)))\n",
    "print('XOR({}, {}) = {}'.format(1,0,XOR_logic(test4)))\n"
   ]
  },
  {
   "cell_type": "code",
   "execution_count": null,
   "id": "8ff5a6d8",
   "metadata": {},
   "outputs": [],
   "source": []
  }
 ],
 "metadata": {
  "kernelspec": {
   "display_name": "Python 3 (ipykernel)",
   "language": "python",
   "name": "python3"
  },
  "language_info": {
   "codemirror_mode": {
    "name": "ipython",
    "version": 3
   },
   "file_extension": ".py",
   "mimetype": "text/x-python",
   "name": "python",
   "nbconvert_exporter": "python",
   "pygments_lexer": "ipython3",
   "version": "3.9.12"
  }
 },
 "nbformat": 4,
 "nbformat_minor": 5
}
