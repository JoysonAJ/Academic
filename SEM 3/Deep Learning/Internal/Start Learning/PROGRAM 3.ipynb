{
 "cells": [
  {
   "cell_type": "code",
   "execution_count": 1,
   "id": "22ad3945",
   "metadata": {},
   "outputs": [],
   "source": [
    "import numpy as np"
   ]
  },
  {
   "cell_type": "code",
   "execution_count": 2,
   "id": "6b9caf5c",
   "metadata": {},
   "outputs": [],
   "source": [
    "def linear_thresh_gate(dot: int,f: float)-> int:\n",
    "    if dot >= 1:\n",
    "        return 1\n",
    "    else:\n",
    "        return 0"
   ]
  },
  {
   "cell_type": "code",
   "execution_count": 4,
   "id": "11871c3f",
   "metadata": {},
   "outputs": [
    {
     "name": "stdout",
     "output_type": "stream",
     "text": [
      "Input table :\n",
      "[[0 0]\n",
      " [0 1]\n",
      " [1 0]\n",
      " [1 1]]\n"
     ]
    }
   ],
   "source": [
    "input_table = np.array([\n",
    "    [0,0],\n",
    "    [0,1],\n",
    "    [1,0],\n",
    "    [1,1]\n",
    "])\n",
    "print(f'Input table :\\n{input_table}')"
   ]
  },
  {
   "cell_type": "code",
   "execution_count": 5,
   "id": "1f9f81c8",
   "metadata": {},
   "outputs": [
    {
     "name": "stdout",
     "output_type": "stream",
     "text": [
      "\n",
      "Weights : \n",
      "[1 1]\n"
     ]
    }
   ],
   "source": [
    "weights = np.array([1,1])\n",
    "print(f'\\nWeights : \\n{weights}')"
   ]
  },
  {
   "cell_type": "code",
   "execution_count": 6,
   "id": "f181dae1",
   "metadata": {},
   "outputs": [
    {
     "name": "stdout",
     "output_type": "stream",
     "text": [
      "\n",
      "Dot Products : [0 1 1 2]\n"
     ]
    }
   ],
   "source": [
    "dot_prdt = input_table @ weights\n",
    "print(f'\\nDot Products : {dot_prdt}')"
   ]
  },
  {
   "cell_type": "code",
   "execution_count": 7,
   "id": "a452ff30",
   "metadata": {},
   "outputs": [
    {
     "name": "stdout",
     "output_type": "stream",
     "text": [
      "\n",
      "Activation : 0\n",
      "\n",
      "Activation : 1\n",
      "\n",
      "Activation : 1\n",
      "\n",
      "Activation : 1\n"
     ]
    }
   ],
   "source": [
    "T = 1\n",
    "for i in range(0,4):\n",
    "    activate = linear_thresh_gate(dot_prdt[i],T)\n",
    "    print(f'\\nActivation : {activate}')"
   ]
  },
  {
   "cell_type": "code",
   "execution_count": null,
   "id": "b9789290",
   "metadata": {},
   "outputs": [],
   "source": []
  }
 ],
 "metadata": {
  "kernelspec": {
   "display_name": "Python 3 (ipykernel)",
   "language": "python",
   "name": "python3"
  },
  "language_info": {
   "codemirror_mode": {
    "name": "ipython",
    "version": 3
   },
   "file_extension": ".py",
   "mimetype": "text/x-python",
   "name": "python",
   "nbconvert_exporter": "python",
   "pygments_lexer": "ipython3",
   "version": "3.9.12"
  }
 },
 "nbformat": 4,
 "nbformat_minor": 5
}
