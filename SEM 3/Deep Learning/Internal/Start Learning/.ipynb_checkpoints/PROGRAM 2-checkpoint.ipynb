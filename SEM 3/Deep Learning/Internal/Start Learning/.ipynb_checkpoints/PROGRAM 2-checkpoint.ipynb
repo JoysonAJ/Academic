{
 "cells": [
  {
   "cell_type": "code",
   "execution_count": 10,
   "id": "bf266422",
   "metadata": {},
   "outputs": [],
   "source": [
    "def habbian_learning(samples):\n",
    "    w1, w2, b = 0, 0 ,0\n",
    "    for x1,x2,y in samples:\n",
    "        w1 = w1 + x1 * y\n",
    "        w2 = w2 + x2 * y\n",
    "        b = b + y\n",
    "        print(f'({x1:2} , {x2:2}) {y:2} ({x1:2} , {x2:2}, {y:2}) ({w1:2}, {w2:2}, {b:2})')"
   ]
  },
  {
   "cell_type": "code",
   "execution_count": 2,
   "id": "1b3d3a24",
   "metadata": {},
   "outputs": [],
   "source": [
    "AND_SAMPLES = {\n",
    "    'binary_input_binary_output' : [ \n",
    "        [1,1,1],\n",
    "        [1,0,0],\n",
    "        [0,1,0],\n",
    "        [0,0,0]\n",
    "    ],\n",
    "    'binary_input_bipolar_output' : [\n",
    "        [1,1,1],\n",
    "        [1,0,-1],\n",
    "        [0,1,-1],\n",
    "        [0,0,-1]\n",
    "    ],\n",
    "    'bipolar_input_bipolar_output' : [\n",
    "        [1,1,1],\n",
    "        [1,-1,-1],\n",
    "        [-1,1,-1],\n",
    "        [-1,-1,-1]\n",
    "    ]\n",
    "}"
   ]
  },
  {
   "cell_type": "code",
   "execution_count": 3,
   "id": "4f41efe7",
   "metadata": {},
   "outputs": [
    {
     "name": "stdout",
     "output_type": "stream",
     "text": [
      "\n",
      " Hebbian Learning \n",
      "\n",
      "AND_SAMPLES\n"
     ]
    }
   ],
   "source": [
    "print('\\n', 'Hebbian Learning', '\\n')\n",
    "print(\"AND_SAMPLES\")\n"
   ]
  },
  {
   "cell_type": "code",
   "execution_count": 11,
   "id": "c0f2d648",
   "metadata": {},
   "outputs": [
    {
     "name": "stdout",
     "output_type": "stream",
     "text": [
      "AND binary_input_binary_output \n",
      "( 1 ,  1)  1 ( 1 ,  1,  1) ( 1,  1,  1)\n",
      "( 1 ,  0)  0 ( 1 ,  0,  0) ( 1,  1,  1)\n",
      "( 0 ,  1)  0 ( 0 ,  1,  0) ( 1,  1,  1)\n",
      "( 0 ,  0)  0 ( 0 ,  0,  0) ( 1,  1,  1)\n"
     ]
    }
   ],
   "source": [
    "print('AND binary_input_binary_output ')\n",
    "habbian_learning(AND_SAMPLES['binary_input_binary_output'])"
   ]
  },
  {
   "cell_type": "code",
   "execution_count": 12,
   "id": "3631316b",
   "metadata": {},
   "outputs": [
    {
     "name": "stdout",
     "output_type": "stream",
     "text": [
      "AND binary_input_bipolar_output \n",
      "( 1 ,  1)  1 ( 1 ,  1,  1) ( 1,  1,  1)\n",
      "( 1 ,  0) -1 ( 1 ,  0, -1) ( 0,  1,  0)\n",
      "( 0 ,  1) -1 ( 0 ,  1, -1) ( 0,  0, -1)\n",
      "( 0 ,  0) -1 ( 0 ,  0, -1) ( 0,  0, -2)\n"
     ]
    }
   ],
   "source": [
    "print('AND binary_input_bipolar_output ')\n",
    "habbian_learning(AND_SAMPLES['binary_input_bipolar_output'])\n"
   ]
  },
  {
   "cell_type": "code",
   "execution_count": 13,
   "id": "885cba78",
   "metadata": {},
   "outputs": [
    {
     "name": "stdout",
     "output_type": "stream",
     "text": [
      "AND bipolar_input_bipolar_output\n",
      "( 1 ,  1)  1 ( 1 ,  1,  1) ( 1,  1,  1)\n",
      "( 1 , -1) -1 ( 1 , -1, -1) ( 0,  2,  0)\n",
      "(-1 ,  1) -1 (-1 ,  1, -1) ( 1,  1, -1)\n",
      "(-1 , -1) -1 (-1 , -1, -1) ( 2,  2, -2)\n"
     ]
    }
   ],
   "source": [
    "print('AND bipolar_input_bipolar_output')\n",
    "habbian_learning(AND_SAMPLES['bipolar_input_bipolar_output'])"
   ]
  },
  {
   "cell_type": "markdown",
   "id": "e658a2a8",
   "metadata": {},
   "source": [
    "#  OR SAMPLES"
   ]
  },
  {
   "cell_type": "code",
   "execution_count": 14,
   "id": "797e2e54",
   "metadata": {},
   "outputs": [],
   "source": [
    "OR_SAMPLES = {\n",
    "    'binary_input_binary_output':[\n",
    "        [1,1,1],\n",
    "        [1,0,1],\n",
    "        [0,1,1],\n",
    "        [0,0,0]\n",
    "    ],\n",
    "    'binary_input_bipolar_output' :[\n",
    "        [1,1,1],\n",
    "        [1,0,1],\n",
    "        [0,1,1],\n",
    "        [0,0,-1]\n",
    "    ],\n",
    "    'bipolar_input_bipolar_output' :[\n",
    "        [1,1,1],\n",
    "        [1,-1,1],\n",
    "        [-1,1,1],\n",
    "        [-1,-1,-1]\n",
    "    ]\n",
    "}"
   ]
  },
  {
   "cell_type": "code",
   "execution_count": 18,
   "id": "905cc471",
   "metadata": {},
   "outputs": [
    {
     "name": "stdout",
     "output_type": "stream",
     "text": [
      "OR binary_input_binary_output \n",
      "( 1 ,  1)  1 ( 1 ,  1,  1) ( 1,  1,  1)\n",
      "( 1 ,  0)  1 ( 1 ,  0,  1) ( 2,  1,  2)\n",
      "( 0 ,  1)  1 ( 0 ,  1,  1) ( 2,  2,  3)\n",
      "( 0 ,  0)  0 ( 0 ,  0,  0) ( 2,  2,  3)\n"
     ]
    }
   ],
   "source": [
    "print('OR binary_input_binary_output ')\n",
    "habbian_learning(OR_SAMPLES['binary_input_binary_output'])"
   ]
  },
  {
   "cell_type": "code",
   "execution_count": 16,
   "id": "345f7d76",
   "metadata": {},
   "outputs": [
    {
     "name": "stdout",
     "output_type": "stream",
     "text": [
      "OR binary_input_bipolar_output \n",
      "( 1 ,  1)  1 ( 1 ,  1,  1) ( 1,  1,  1)\n",
      "( 1 ,  0)  1 ( 1 ,  0,  1) ( 2,  1,  2)\n",
      "( 0 ,  1)  1 ( 0 ,  1,  1) ( 2,  2,  3)\n",
      "( 0 ,  0) -1 ( 0 ,  0, -1) ( 2,  2,  2)\n"
     ]
    }
   ],
   "source": [
    "print('OR binary_input_bipolar_output ')\n",
    "habbian_learning(OR_SAMPLES['binary_input_bipolar_output'])"
   ]
  },
  {
   "cell_type": "code",
   "execution_count": 17,
   "id": "512bdfd4",
   "metadata": {},
   "outputs": [
    {
     "name": "stdout",
     "output_type": "stream",
     "text": [
      "OR bipolar_input_bipolar_output\n",
      "( 1 ,  1)  1 ( 1 ,  1,  1) ( 1,  1,  1)\n",
      "( 1 , -1)  1 ( 1 , -1,  1) ( 2,  0,  2)\n",
      "(-1 ,  1)  1 (-1 ,  1,  1) ( 1,  1,  3)\n",
      "(-1 , -1) -1 (-1 , -1, -1) ( 2,  2,  2)\n"
     ]
    }
   ],
   "source": [
    "print('OR bipolar_input_bipolar_output')\n",
    "habbian_learning(OR_SAMPLES['bipolar_input_bipolar_output'])"
   ]
  },
  {
   "cell_type": "markdown",
   "id": "d9d118d0",
   "metadata": {},
   "source": [
    "# XOR SAMPLES"
   ]
  },
  {
   "cell_type": "code",
   "execution_count": 19,
   "id": "bf6cd0d0",
   "metadata": {},
   "outputs": [],
   "source": [
    "XOR_samples = {\n",
    "    'binary_input_binary_output' :[\n",
    "        [1,1,0],\n",
    "        [1,0,1],\n",
    "        [0,1,1],\n",
    "        [0,0,0]\n",
    "    ],\n",
    "    'binary_input_bipolar_output' :[\n",
    "        [1,1,-1],\n",
    "        [1,0,1],\n",
    "        [0,1,1],\n",
    "        [0,0,-1]\n",
    "    ],\n",
    "    'bipolar_input_bipolar_output' :[\n",
    "        [1,1,-1],\n",
    "        [1,-1,1],\n",
    "        [-1,1,1],\n",
    "        [-1,-1,-1]\n",
    "    ]\n",
    "}"
   ]
  },
  {
   "cell_type": "code",
   "execution_count": 20,
   "id": "560e80d7",
   "metadata": {},
   "outputs": [
    {
     "name": "stdout",
     "output_type": "stream",
     "text": [
      "XOR binary_input_binary_output \n",
      "( 1 ,  1)  0 ( 1 ,  1,  0) ( 0,  0,  0)\n",
      "( 1 ,  0)  1 ( 1 ,  0,  1) ( 1,  0,  1)\n",
      "( 0 ,  1)  1 ( 0 ,  1,  1) ( 1,  1,  2)\n",
      "( 0 ,  0)  0 ( 0 ,  0,  0) ( 1,  1,  2)\n"
     ]
    }
   ],
   "source": [
    "print('XOR binary_input_binary_output ')\n",
    "habbian_learning(XOR_samples['binary_input_binary_output'])"
   ]
  },
  {
   "cell_type": "code",
   "execution_count": 21,
   "id": "0ce300e1",
   "metadata": {},
   "outputs": [
    {
     "name": "stdout",
     "output_type": "stream",
     "text": [
      "XOR binary_input_bipolar_output \n",
      "( 1 ,  1) -1 ( 1 ,  1, -1) (-1, -1, -1)\n",
      "( 1 ,  0)  1 ( 1 ,  0,  1) ( 0, -1,  0)\n",
      "( 0 ,  1)  1 ( 0 ,  1,  1) ( 0,  0,  1)\n",
      "( 0 ,  0) -1 ( 0 ,  0, -1) ( 0,  0,  0)\n"
     ]
    }
   ],
   "source": [
    "print('XOR binary_input_bipolar_output ')\n",
    "habbian_learning(XOR_samples['binary_input_bipolar_output'])"
   ]
  },
  {
   "cell_type": "code",
   "execution_count": 22,
   "id": "bb4d439b",
   "metadata": {},
   "outputs": [
    {
     "name": "stdout",
     "output_type": "stream",
     "text": [
      "XOR bipolar_input_bipolar_output\n",
      "( 1 ,  1) -1 ( 1 ,  1, -1) (-1, -1, -1)\n",
      "( 1 , -1)  1 ( 1 , -1,  1) ( 0, -2,  0)\n",
      "(-1 ,  1)  1 (-1 ,  1,  1) (-1, -1,  1)\n",
      "(-1 , -1) -1 (-1 , -1, -1) ( 0,  0,  0)\n"
     ]
    }
   ],
   "source": [
    "print('XOR bipolar_input_bipolar_output')\n",
    "habbian_learning(XOR_samples['bipolar_input_bipolar_output'])"
   ]
  },
  {
   "cell_type": "code",
   "execution_count": null,
   "id": "b0be4284",
   "metadata": {},
   "outputs": [],
   "source": []
  }
 ],
 "metadata": {
  "kernelspec": {
   "display_name": "Python 3 (ipykernel)",
   "language": "python",
   "name": "python3"
  },
  "language_info": {
   "codemirror_mode": {
    "name": "ipython",
    "version": 3
   },
   "file_extension": ".py",
   "mimetype": "text/x-python",
   "name": "python",
   "nbconvert_exporter": "python",
   "pygments_lexer": "ipython3",
   "version": "3.9.12"
  }
 },
 "nbformat": 4,
 "nbformat_minor": 5
}
