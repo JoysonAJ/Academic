{
 "cells": [
  {
   "cell_type": "code",
   "execution_count": 1,
   "id": "5a66ac8c",
   "metadata": {},
   "outputs": [],
   "source": [
    "import numpy as np"
   ]
  },
  {
   "cell_type": "code",
   "execution_count": 13,
   "id": "7bbd4d17",
   "metadata": {},
   "outputs": [
    {
     "name": "stdout",
     "output_type": "stream",
     "text": [
      "Input vector : [0 1 1] \n",
      "Weight Vector : [-1  1  1]\n",
      "Weighted Sum : 2\n"
     ]
    }
   ],
   "source": [
    "np.random.seed(seed=0)\n",
    "X = np.array([0,1,1])\n",
    "W = np.array([-1,1,1])\n",
    "print(f'Input vector : {X} \\nWeight Vector : {W}')\n",
    "Fx = W @ X\n",
    "print(f'Weighted Sum : {Fx}')"
   ]
  },
  {
   "cell_type": "code",
   "execution_count": 14,
   "id": "e4cd933f",
   "metadata": {},
   "outputs": [],
   "source": [
    "#Threshold calculated based in the weighted sum\n",
    "def linear_threshold_gate(Fx:int, T: float) -> int:\n",
    "    '''Returns the binary threshold output'''\n",
    "    if Fx >= T:\n",
    "        return 1\n",
    "    else:\n",
    "        return 0"
   ]
  },
  {
   "cell_type": "code",
   "execution_count": 15,
   "id": "720c3ea8",
   "metadata": {},
   "outputs": [
    {
     "name": "stdout",
     "output_type": "stream",
     "text": [
      "Activation (IF threshold = 1): 1\n",
      "Activation (IF threshold = 3): 0\n"
     ]
    }
   ],
   "source": [
    "T = 1 # if threshold =1\n",
    "activation = linear_threshold_gate(Fx,T)\n",
    "print(f'Activation (IF threshold = 1): {activation}')\n",
    "\n",
    "T = 3\n",
    "activation = linear_threshold_gate(Fx,T)\n",
    "print(f'Activation (IF threshold = 3): {activation}')"
   ]
  },
  {
   "cell_type": "code",
   "execution_count": 18,
   "id": "68b7bf71",
   "metadata": {},
   "outputs": [
    {
     "name": "stdout",
     "output_type": "stream",
     "text": [
      "3\n"
     ]
    }
   ],
   "source": [
    "ad = np.sum(np.add(X,W),axis=0)\n",
    "print(ad)"
   ]
  },
  {
   "cell_type": "code",
   "execution_count": 19,
   "id": "52ad771d",
   "metadata": {},
   "outputs": [
    {
     "name": "stdout",
     "output_type": "stream",
     "text": [
      "Activation (IF threshold = 1): 1\n",
      "Activation (IF threshold = 3): 1\n"
     ]
    }
   ],
   "source": [
    "T = 1 # if threshold =1\n",
    "activation = linear_threshold_gate(ad,T)\n",
    "print(f'Activation (IF threshold = 1): {activation}')\n",
    "\n",
    "T = 3\n",
    "activation = linear_threshold_gate(ad,T)\n",
    "print(f'Activation (IF threshold = 3): {activation}')"
   ]
  },
  {
   "cell_type": "code",
   "execution_count": null,
   "id": "42ad9d30",
   "metadata": {},
   "outputs": [],
   "source": []
  }
 ],
 "metadata": {
  "kernelspec": {
   "display_name": "Python 3 (ipykernel)",
   "language": "python",
   "name": "python3"
  },
  "language_info": {
   "codemirror_mode": {
    "name": "ipython",
    "version": 3
   },
   "file_extension": ".py",
   "mimetype": "text/x-python",
   "name": "python",
   "nbconvert_exporter": "python",
   "pygments_lexer": "ipython3",
   "version": "3.9.12"
  }
 },
 "nbformat": 4,
 "nbformat_minor": 5
}
