{
 "cells": [
  {
   "cell_type": "code",
   "execution_count": 8,
   "id": "8b4cef4b",
   "metadata": {},
   "outputs": [
    {
     "name": "stdout",
     "output_type": "stream",
     "text": [
      "Input table :\n",
      "[[0 0]\n",
      " [0 1]\n",
      " [1 0]\n",
      " [1 1]]\n",
      "\n",
      "Weights : \n",
      "[1 1]\n",
      "\n",
      "Dot Products : [0 1 1 2]\n",
      "\n",
      "Activation : 0\n",
      "\n",
      "Activation : 1\n",
      "\n",
      "Activation : 1\n",
      "\n",
      "Activation : 1\n"
     ]
    }
   ],
   "source": [
    "import numpy as np\n",
    "from numpy import array\n",
    "\n",
    "def linear_thresh_gate(dot: int,f: float)-> int:\n",
    "    if dot >= 1:\n",
    "        return 1\n",
    "    else:\n",
    "        return 0\n",
    "\n",
    "#generating a vector\n",
    "input_table = np.array([\n",
    "    [0,0],\n",
    "    [0,1],\n",
    "    [1,0],\n",
    "    [1,1]\n",
    "])\n",
    "\n",
    "print(f'Input table :\\n{input_table}')\n",
    "weights = np.array([1,1])\n",
    "print(f'\\nWeights : \\n{weights}')\n",
    "\n",
    "dot_prdt = input_table @ weights\n",
    "print(f'\\nDot Products : {dot_prdt}')\n",
    "\n",
    "T = 1\n",
    "for i in range(0,4):\n",
    "    activate = linear_thresh_gate(dot_prdt[i],T)\n",
    "    print(f'\\nActivation : {activate}')\n",
    "\n"
   ]
  },
  {
   "cell_type": "code",
   "execution_count": null,
   "id": "7dbfe324",
   "metadata": {},
   "outputs": [],
   "source": []
  }
 ],
 "metadata": {
  "kernelspec": {
   "display_name": "Python 3 (ipykernel)",
   "language": "python",
   "name": "python3"
  },
  "language_info": {
   "codemirror_mode": {
    "name": "ipython",
    "version": 3
   },
   "file_extension": ".py",
   "mimetype": "text/x-python",
   "name": "python",
   "nbconvert_exporter": "python",
   "pygments_lexer": "ipython3",
   "version": "3.9.12"
  }
 },
 "nbformat": 4,
 "nbformat_minor": 5
}
