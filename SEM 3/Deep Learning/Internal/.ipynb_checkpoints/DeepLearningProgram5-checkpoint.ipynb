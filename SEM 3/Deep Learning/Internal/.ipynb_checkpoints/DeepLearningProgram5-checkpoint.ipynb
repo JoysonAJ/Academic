{
 "cells": [
  {
   "cell_type": "code",
   "execution_count": 9,
   "metadata": {
    "colab": {
     "base_uri": "https://localhost:8080/"
    },
    "id": "vzuE9ChI6GCB",
    "outputId": "55f438d5-1cc3-4cf6-850c-8796660a34ad"
   },
   "outputs": [
    {
     "name": "stdout",
     "output_type": "stream",
     "text": [
      "Weight Updated : -0.1\n",
      "Weight Updated : 0.1\n",
      "Bias Updated : -0.1\n",
      "---------------------------------------------\n",
      "Weight Updated : 0.010000000000000009\n",
      "Weight Updated : -0.010000000000000009\n",
      "Bias Updated : -0.21000000000000002\n",
      "---------------------------------------------\n",
      "Total Error : -4\n",
      "---------------------------------------------\n",
      "Prediction for [1,1] : -1\n",
      "Prediction for [1,-1] : -1\n",
      "Prediction for [-1,1] : -1\n",
      "Prediction for [-1,-1] : -1\n"
     ]
    }
   ],
   "source": [
    "import numpy as np\n",
    "\n",
    "#Initial Values\n",
    "INPUTS = np.array([[1,1],[1,-1],[-1,1],[-1,-1]])\n",
    "LEARNING_RATE = 0.1\n",
    "\n",
    "#step function\n",
    "def step_func(sum):\n",
    "  if sum >= 0:\n",
    "    return 1\n",
    "  return -1\n",
    "\n",
    "#calculating output\n",
    "def cal_output(weights, instance, bias):\n",
    "  sum = instance.dot(weights) + bias\n",
    "  return step_func(sum)\n",
    "\n",
    "#additing Algorithm\n",
    "def addline(outputs, weights, bias ):\n",
    "  total_error = 1\n",
    "  counter = 0\n",
    "  while total_error != 0 and counter < 10:\n",
    "    total_error = 0\n",
    "    counter += 1\n",
    "    for i in range(len(outputs)):\n",
    "      sum = INPUTS[i].dot(weights) + bias\n",
    "      prediction = step_func(sum)\n",
    "\n",
    "      total_error += outputs[i] - prediction\n",
    "      error = outputs[i] - sum\n",
    "\n",
    "      if outputs[i] != prediction:\n",
    "        weights[0] = weights[0] + (LEARNING_RATE * error * INPUTS[i][0])\n",
    "        weights[1] = weights[1] + (LEARNING_RATE * error * INPUTS[i][1])\n",
    "        bias = bias + (LEARNING_RATE * error)\n",
    "        print(\"Weight Updated : \" + str(weights[0]))\n",
    "        print(\"Weight Updated : \" + str(weights[1]))\n",
    "        print(\"Bias Updated : \" + str(bias))\n",
    "        print(\"---------------------------------------------\")\n",
    "    \n",
    "    print(\"Total Error : \"+ str(total_error))\n",
    "    print(\"---------------------------------------------\")\n",
    "\n",
    "    return weights, bias\n",
    "if __name__ == \"__main__\":\n",
    "      and_outputs = np.array([1,-1,-1,-1])\n",
    "      or_outputs = np.array([1,1,1,-1])\n",
    "\n",
    "      weights = np.array([0.0,0.0])\n",
    "      bias = 0\n",
    "      returned_weights, returned_bias =  addline(and_outputs, weights, bias)\n",
    "      print('Prediction for [1,1] : '+ str(cal_output(returned_weights,np.array([1,1]),returned_bias)))\n",
    "      print('Prediction for [1,-1] : '+ str(cal_output(returned_weights,np.array([1,-1]),returned_bias)))\n",
    "      print('Prediction for [-1,1] : '+ str(cal_output(returned_weights,np.array([-1,1]),returned_bias)))\n",
    "      print('Prediction for [-1,-1] : '+ str(cal_output(returned_weights,np.array([-1,-1]),returned_bias)))\n",
    "\n",
    "    "
   ]
  },
  {
   "cell_type": "code",
   "execution_count": null,
   "metadata": {
    "id": "WUDb7O8A70I8"
   },
   "outputs": [],
   "source": []
  }
 ],
 "metadata": {
  "colab": {
   "provenance": []
  },
  "kernelspec": {
   "display_name": "Python 3 (ipykernel)",
   "language": "python",
   "name": "python3"
  },
  "language_info": {
   "codemirror_mode": {
    "name": "ipython",
    "version": 3
   },
   "file_extension": ".py",
   "mimetype": "text/x-python",
   "name": "python",
   "nbconvert_exporter": "python",
   "pygments_lexer": "ipython3",
   "version": "3.9.12"
  }
 },
 "nbformat": 4,
 "nbformat_minor": 1
}
